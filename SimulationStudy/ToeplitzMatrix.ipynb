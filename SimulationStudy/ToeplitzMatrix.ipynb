{
  "nbformat": 4,
  "nbformat_minor": 0,
  "metadata": {
    "colab": {
      "provenance": [],
      "authorship_tag": "ABX9TyMVFsGeDjlJkt+cP9x2204b",
      "include_colab_link": true
    },
    "kernelspec": {
      "name": "python3",
      "display_name": "Python 3"
    },
    "language_info": {
      "name": "python"
    }
  },
  "cells": [
    {
      "cell_type": "markdown",
      "metadata": {
        "id": "view-in-github",
        "colab_type": "text"
      },
      "source": [
        "<a href=\"https://colab.research.google.com/github/TomoyaOzawa-DA/research-project/blob/ToeplitzMatrix/SimulationStudy/ToeplitzMatrix.ipynb\" target=\"_parent\"><img src=\"https://colab.research.google.com/assets/colab-badge.svg\" alt=\"Open In Colab\"/></a>"
      ]
    },
    {
      "cell_type": "code",
      "source": [
        "import numpy as np\n",
        "from scipy.linalg import toeplitz\n",
        "import time"
      ],
      "metadata": {
        "id": "bb6_YcKqRfi6"
      },
      "execution_count": 1,
      "outputs": []
    },
    {
      "cell_type": "code",
      "execution_count": 2,
      "metadata": {
        "id": "WjIEi4x1QUbk"
      },
      "outputs": [],
      "source": [
        "# prepare dataset for lag model with no intercept\n",
        "## X_1, X_1_lag, X_2, X_2_lag, X_3\n",
        "\n",
        "n = 1000 # sample used in estimation, t = 1, 2, ..., 1000. We add a sample at t = 0 in this function\n",
        "SNR = 0.71\n",
        "rho =0.3\n",
        "\n",
        "beta1 = np.array([1,1,1,0,1])\n",
        "beta2 = np.array([-1,-1,-1,0,-1])\n",
        "p = len(beta1) - 2 # creare lag variable for x_1, x_2\n",
        "Sigma = np.zeros((p,p));\n",
        "for i in range(p):\n",
        "  for j in range(p):\n",
        "    Sigma[i,j] = rho**(abs(i-j))\n",
        "X_123 = np.random.multivariate_normal(mean =np.zeros(p), cov = Sigma, size = n+1) # for lag variable, we add an additional sample that will be gone.\n",
        "X_1_lag = np.r_[[0], X_123[0:n, 0]].reshape(n+1,1) # lag variable for X_1\n",
        "X_2_lag = np.r_[[0], X_123[0:n, 1]].reshape(n+1,1) # lag variable for X_1\n",
        "\n",
        "X = np.concatenate([X_123[0:n+1], X_1_lag, X_2_lag], axis = 1)[1:, ] # columns order: X_1, X_2, X_3, X_1_lag, X_2_lag\n",
        "\n",
        "noise1 = np.random.normal(0,np.sqrt(np.var(X[:int(n/2)]@beta1)/SNR), size = int(n/2)) \n",
        "noise2 = np.random.normal(0,np.sqrt(np.var(X[:int(n/2)]@beta2)/SNR), size = int(n/2)) \n",
        "Y1 = X[:int(n/2)]@beta1 + noise1\n",
        "Y2 = X[int(n/2):]@beta2 + noise2\n",
        "Y = np.r_[Y1,Y2]\n",
        "\n",
        "#lam = 0.1*n\n",
        "#ols = sm.OLS(Y, X)\n",
        "#ols_result = ols.fit()\n",
        "#bigM = 10*float(1.96*(sum(ols_result.bse)))#1000"
      ]
    },
    {
      "cell_type": "code",
      "source": [
        "X"
      ],
      "metadata": {
        "colab": {
          "base_uri": "https://localhost:8080/"
        },
        "id": "NPn1DDqYRdUm",
        "outputId": "5d3c9b47-4af1-4931-ec87-fe97c41b368d"
      },
      "execution_count": 3,
      "outputs": [
        {
          "output_type": "execute_result",
          "data": {
            "text/plain": [
              "array([[ 0.47884903,  0.58830302, -0.17397167,  0.26414108,  0.70221908],\n",
              "       [ 0.22133465,  0.05059659,  0.11760868,  0.47884903,  0.58830302],\n",
              "       [-0.43110849, -0.8633376 , -0.7602266 ,  0.22133465,  0.05059659],\n",
              "       ...,\n",
              "       [-1.19899803, -0.25049085, -1.19279493,  1.07986473, -1.49423526],\n",
              "       [-0.01823158,  0.76316846, -0.46083418, -1.19899803, -0.25049085],\n",
              "       [ 1.13278136,  1.58763258,  2.2201848 , -0.01823158,  0.76316846]])"
            ]
          },
          "metadata": {},
          "execution_count": 3
        }
      ]
    },
    {
      "cell_type": "code",
      "source": [
        "# estimated value of beta\n",
        "beta_estimated = np.concatenate([np.ones(500*5).reshape(500, 5),(np.ones(500*5)*0.5).reshape(500, 5)], axis = 0)"
      ],
      "metadata": {
        "id": "UqJgKHsmnaDP"
      },
      "execution_count": 4,
      "outputs": []
    },
    {
      "cell_type": "code",
      "source": [
        "# compute SSR by for-loop\n",
        "sum_of_sq = sum((Y[t] - sum(X[t,j]*beta_estimated[t,j] for j in range(5)))* (Y[t] - sum(X[t,j]*beta_estimated[t,j] for j in range(5))) for t in range(len(Y)))\n",
        "sum_of_sq"
      ],
      "metadata": {
        "colab": {
          "base_uri": "https://localhost:8080/"
        },
        "id": "c_yz2NvNRKK7",
        "outputId": "d51d7b62-1f2b-47b4-940a-ee4a548d9a4e"
      },
      "execution_count": 5,
      "outputs": [
        {
          "output_type": "execute_result",
          "data": {
            "text/plain": [
              "13797.774291866459"
            ]
          },
          "metadata": {},
          "execution_count": 5
        }
      ]
    },
    {
      "cell_type": "code",
      "source": [
        "# compute SSR using Toeplitz matrix\n",
        "n_lag = 1\n",
        "\n",
        "first_col_X1 = np.r_[X_123[:, 0], np.zeros(n_lag)]\n",
        "first_row_X1 = np.r_[X_123[0, 0], np.zeros(n_lag)]\n",
        "Toep_mat_X1 = toeplitz(first_col_X1, first_row_X1)\n",
        "\n",
        "first_col_X2 = np.r_[X_123[:, 1], np.zeros(n_lag)]\n",
        "first_row_X2 = np.r_[X_123[1, 0], np.zeros(n_lag)]\n",
        "Toep_mat_X2 = toeplitz(first_col_X2, first_row_X2)\n",
        "\n",
        "sum_of_sq_toeplitz = sum(np.square(Y - np.diag(np.delete(Toep_mat_X1, [0, Toep_mat_X1.shape[0]-1], 0) @ beta_estimated[:, [0, 3]].T) - np.diag(np.delete(Toep_mat_X2, [0, Toep_mat_X2.shape[0]-1], 0) @ beta_estimated[:, [1, 4]].T) - (X[:, 2].T * beta_estimated[:, 2])))\n",
        "sum_of_sq_toeplitz"
      ],
      "metadata": {
        "colab": {
          "base_uri": "https://localhost:8080/"
        },
        "id": "6Md-iSLSRL8a",
        "outputId": "963891b4-4d0d-4048-82ce-7f7adeac3324"
      },
      "execution_count": 6,
      "outputs": [
        {
          "output_type": "execute_result",
          "data": {
            "text/plain": [
              "13797.77429186646"
            ]
          },
          "metadata": {},
          "execution_count": 6
        }
      ]
    },
    {
      "cell_type": "code",
      "source": [
        "# compute SSR using Toeplitz matrix in another way\n",
        "first_col_X1 = X_123[1:n+1, 0]\n",
        "first_row_X1 = np.r_[X_123[1, 0], X_123[0, 0]]\n",
        "Toep_mat_X1 = toeplitz(first_col_X1, first_row_X1)\n",
        "\n",
        "first_col_X2 = X_123[1:n+1, 1]\n",
        "first_row_X2 = np.r_[X_123[1, 1], X_123[0, 1]]\n",
        "Toep_mat_X2 = toeplitz(first_col_X2, first_row_X2)\n",
        "\n",
        "sum_of_sq_toeplitz = sum(np.square(Y - np.diag(Toep_mat_X1 @ beta_estimated[:, [0, 3]].T) - np.diag(Toep_mat_X2 @ beta_estimated[:, [1, 4]].T) - (X[:, 2].T * beta_estimated[:, 2])))\n",
        "sum_of_sq_toeplitz"
      ],
      "metadata": {
        "id": "hm4CDsL9hLCI",
        "colab": {
          "base_uri": "https://localhost:8080/"
        },
        "outputId": "7bf4aafd-88be-41ac-e13d-5dff7ca1036d"
      },
      "execution_count": 7,
      "outputs": [
        {
          "output_type": "execute_result",
          "data": {
            "text/plain": [
              "13797.77429186646"
            ]
          },
          "metadata": {},
          "execution_count": 7
        }
      ]
    },
    {
      "cell_type": "code",
      "source": [],
      "metadata": {
        "id": "CLecqFKVk1IC"
      },
      "execution_count": 7,
      "outputs": []
    },
    {
      "cell_type": "code",
      "source": [],
      "metadata": {
        "id": "pEIbQgENRFuf"
      },
      "execution_count": 7,
      "outputs": []
    },
    {
      "cell_type": "code",
      "source": [],
      "metadata": {
        "id": "l-RH1sRyk1F6"
      },
      "execution_count": 7,
      "outputs": []
    }
  ]
}