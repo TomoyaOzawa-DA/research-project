{
  "nbformat": 4,
  "nbformat_minor": 0,
  "metadata": {
    "colab": {
      "provenance": [],
      "authorship_tag": "ABX9TyO+NjIQptxyczI0O8Mngx0s",
      "include_colab_link": true
    },
    "kernelspec": {
      "name": "python3",
      "display_name": "Python 3"
    },
    "language_info": {
      "name": "python"
    }
  },
  "cells": [
    {
      "cell_type": "markdown",
      "metadata": {
        "id": "view-in-github",
        "colab_type": "text"
      },
      "source": [
        "<a href=\"https://colab.research.google.com/github/TomoyaOzawa-DA/research-project/blob/ToeplitzMatrix/SimulationStudy/ToeplitzMatrix.ipynb\" target=\"_parent\"><img src=\"https://colab.research.google.com/assets/colab-badge.svg\" alt=\"Open In Colab\"/></a>"
      ]
    },
    {
      "cell_type": "code",
      "source": [
        "import numpy as np\n",
        "from scipy.linalg import toeplitz\n",
        "import time"
      ],
      "metadata": {
        "id": "bb6_YcKqRfi6"
      },
      "execution_count": 1,
      "outputs": []
    },
    {
      "cell_type": "code",
      "execution_count": 2,
      "metadata": {
        "id": "WjIEi4x1QUbk"
      },
      "outputs": [],
      "source": [
        "# prepare dataset for lag model with no intercept\n",
        "## X_1, X_1_lag, X_2, X_2_lag, X_3\n",
        "\n",
        "n = 1000 # sample used in estimation, t = 1, 2, ..., 1000. We add a sample at t = 0 in this function\n",
        "SNR = 0.71\n",
        "rho =0.3\n",
        "\n",
        "beta1 = np.array([1,1,1,0,1])\n",
        "beta2 = np.array([-1,-1,-1,0,-1])\n",
        "p = len(beta1) - 2 # creare lag variable for x_1, x_2\n",
        "Sigma = np.zeros((p,p));\n",
        "for i in range(p):\n",
        "  for j in range(p):\n",
        "    Sigma[i,j] = rho**(abs(i-j))\n",
        "X_123 = np.random.multivariate_normal(mean =np.zeros(p), cov = Sigma, size = n+1) # for lag variable, we add an additional sample that will be gone.\n",
        "X_1_lag = np.r_[[0], X_123[0:n, 0]].reshape(n+1,1) # lag variable for X_1\n",
        "X_2_lag = np.r_[[0], X_123[0:n, 1]].reshape(n+1,1) # lag variable for X_1\n",
        "\n",
        "X = np.concatenate([X_123[0:n+1], X_1_lag, X_2_lag], axis = 1)[1:, ] # columns order: X_1, X_2, X_3, X_1_lag, X_2_lag\n",
        "\n",
        "noise1 = np.random.normal(0,np.sqrt(np.var(X[:int(n/2)]@beta1)/SNR), size = int(n/2)) \n",
        "noise2 = np.random.normal(0,np.sqrt(np.var(X[:int(n/2)]@beta2)/SNR), size = int(n/2)) \n",
        "Y1 = X[:int(n/2)]@beta1 + noise1\n",
        "Y2 = X[int(n/2):]@beta2 + noise2\n",
        "Y = np.r_[Y1,Y2]\n",
        "\n",
        "#lam = 0.1*n\n",
        "#ols = sm.OLS(Y, X)\n",
        "#ols_result = ols.fit()\n",
        "#bigM = 10*float(1.96*(sum(ols_result.bse)))#1000"
      ]
    },
    {
      "cell_type": "code",
      "source": [
        "# estimated value of beta\n",
        "beta_estimated = np.concatenate([np.ones(500*5).reshape(500, 5),(np.ones(500*5)*0.5).reshape(500, 5)], axis = 0)"
      ],
      "metadata": {
        "id": "UqJgKHsmnaDP"
      },
      "execution_count": 3,
      "outputs": []
    },
    {
      "cell_type": "code",
      "source": [
        "# compute SSR by for-loop\n",
        "sum_of_sq = sum((Y[t] - sum(X[t,j]*beta_estimated[t,j] for j in range(5)))* (Y[t] - sum(X[t,j]*beta_estimated[t,j] for j in range(5))) for t in range(len(Y)))\n",
        "sum_of_sq"
      ],
      "metadata": {
        "colab": {
          "base_uri": "https://localhost:8080/"
        },
        "id": "c_yz2NvNRKK7",
        "outputId": "ee54e59d-7fbd-4da3-898f-2c2942721464"
      },
      "execution_count": 4,
      "outputs": [
        {
          "output_type": "execute_result",
          "data": {
            "text/plain": [
              "15342.151615663497"
            ]
          },
          "metadata": {},
          "execution_count": 4
        }
      ]
    },
    {
      "cell_type": "code",
      "source": [
        "# compute SSR using Toeplitz matrix\n",
        "n_lag = 1\n",
        "\n",
        "first_col_X1 = np.r_[X_123[:, 0], np.zeros(n_lag)]\n",
        "first_row_X1 = np.r_[X_123[0, 0], np.zeros(n_lag)]\n",
        "Toep_mat_X1 = toeplitz(first_col_X1, first_row_X1)\n",
        "\n",
        "first_col_X2 = np.r_[X_123[:, 1], np.zeros(n_lag)]\n",
        "first_row_X2 = np.r_[X_123[1, 0], np.zeros(n_lag)]\n",
        "Toep_mat_X2 = toeplitz(first_col_X2, first_row_X2)\n",
        "\n",
        "check1 = np.diag(np.delete(Toep_mat_X1, [0, Toep_mat_X1.shape[0]-1], 0) @ beta_estimated[:, 0:2].T)\n",
        "check2 = np.diag(np.delete(Toep_mat_X2, [0, Toep_mat_X2.shape[0]-1], 0) @ beta_estimated[:, 2:4].T)\n",
        "check3 = X[:, 2].T @ beta_estimated[:, 4]\n",
        "\n",
        "sum_of_sq_toeplitz = sum(np.square(Y - np.diag(np.delete(Toep_mat_X1, [0, Toep_mat_X1.shape[0]-1], 0) @ beta_estimated[:, 0:2].T) - np.diag(np.delete(Toep_mat_X2, [0, Toep_mat_X2.shape[0]-1], 0) @ beta_estimated[:, 2:4].T) - (X[:, 2].T * beta_estimated[:, 4])))\n",
        "sum_of_sq_toeplitz"
      ],
      "metadata": {
        "colab": {
          "base_uri": "https://localhost:8080/"
        },
        "id": "6Md-iSLSRL8a",
        "outputId": "82adb0b4-07f0-47f7-c353-c2c58858fa3e"
      },
      "execution_count": 5,
      "outputs": [
        {
          "output_type": "execute_result",
          "data": {
            "text/plain": [
              "15342.151615663497"
            ]
          },
          "metadata": {},
          "execution_count": 5
        }
      ]
    },
    {
      "cell_type": "code",
      "source": [],
      "metadata": {
        "id": "hm4CDsL9hLCI"
      },
      "execution_count": 5,
      "outputs": []
    },
    {
      "cell_type": "code",
      "source": [],
      "metadata": {
        "id": "mCWGmpNvb2RR"
      },
      "execution_count": 5,
      "outputs": []
    },
    {
      "cell_type": "code",
      "source": [],
      "metadata": {
        "id": "F7SJl-_kk1Py"
      },
      "execution_count": 5,
      "outputs": []
    },
    {
      "cell_type": "code",
      "source": [],
      "metadata": {
        "id": "O6qtHHTmk1Ni"
      },
      "execution_count": 5,
      "outputs": []
    },
    {
      "cell_type": "code",
      "source": [],
      "metadata": {
        "id": "UWNq9K5Ak1Ka"
      },
      "execution_count": 5,
      "outputs": []
    },
    {
      "cell_type": "code",
      "source": [],
      "metadata": {
        "id": "CLecqFKVk1IC"
      },
      "execution_count": 5,
      "outputs": []
    },
    {
      "cell_type": "code",
      "source": [],
      "metadata": {
        "id": "l-RH1sRyk1F6"
      },
      "execution_count": 5,
      "outputs": []
    }
  ]
}