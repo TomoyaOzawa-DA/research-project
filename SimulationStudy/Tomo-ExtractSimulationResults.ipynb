{
 "cells": [
  {
   "cell_type": "code",
   "execution_count": null,
   "id": "f09a49bd",
   "metadata": {},
   "outputs": [],
   "source": [
    "# Simulation\n",
    "import pandas as pd\n",
    "import numpy as np\n",
    "import matplotlib.pyplot as plt\n",
    "import re\n",
    "sim = pd.read_csv('simulation_five_variate.csv')\n",
    "# Number of count exactly 499\n",
    "rho_list = np.array([0,0.3,0.7])\n",
    "SNR_list = np.array([6.0, 3.52, 2.07, 1.22, 0.71])\n",
    "summary_count = []\n",
    "for rho in rho_list:\n",
    "    for snr in SNR_list:\n",
    "        counter = 0\n",
    "        df = sim[(sim.rho==rho)&(sim.SNR==snr)]\n",
    "        for i, row in df.iterrows():\n",
    "            if 499 in [int(item) for item in re.findall(r'\\d+', row['Change Points'])]:\n",
    "                counter = counter + 1\n",
    "        summary_count.append([rho, snr, counter, counter/500])\n",
    "summary_count"
   ]
  }
 ],
 "metadata": {
  "kernelspec": {
   "display_name": "Python 3 (ipykernel)",
   "language": "python",
   "name": "python3"
  },
  "language_info": {
   "codemirror_mode": {
    "name": "ipython",
    "version": 3
   },
   "file_extension": ".py",
   "mimetype": "text/x-python",
   "name": "python",
   "nbconvert_exporter": "python",
   "pygments_lexer": "ipython3",
   "version": "3.8.13"
  }
 },
 "nbformat": 4,
 "nbformat_minor": 5
}
