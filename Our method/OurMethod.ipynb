{
 "cells": [
  {
   "cell_type": "markdown",
   "id": "70b0d40c",
   "metadata": {},
   "source": [
    "# Our method"
   ]
  },
  {
   "cell_type": "code",
   "execution_count": 21,
   "id": "01e3f8bf",
   "metadata": {},
   "outputs": [],
   "source": [
    "import numpy as np\n",
    "import gurobipy as grb\n",
    "from gurobipy import GRB\n",
    "import random"
   ]
  },
  {
   "cell_type": "markdown",
   "id": "84fcce53",
   "metadata": {},
   "source": [
    "## Simulated data"
   ]
  },
  {
   "cell_type": "code",
   "execution_count": 43,
   "id": "154d30b6",
   "metadata": {},
   "outputs": [],
   "source": [
    "# obs: observed period: t = 1, 2, ... , obs\n",
    "# first half data is generated based on Beta_1, while the others are based on Beta_2\n",
    "obs = 200"
   ]
  },
  {
   "cell_type": "code",
   "execution_count": 44,
   "id": "7260eca9",
   "metadata": {},
   "outputs": [],
   "source": [
    "np.random.seed(123)\n",
    "mean = np.zeros(5)\n",
    "cov = np.diag(np.ones(5))\n",
    "X_const = np.ones(int(obs/2)).reshape((int(obs/2), 1))\n",
    "X_1 = np.random.multivariate_normal(mean, cov, int(obs/2))\n",
    "X_2 = np.random.multivariate_normal(mean, cov, int(obs/2))\n",
    "\n",
    "X_1 = np.concatenate((X_const, X_1), axis = 1)\n",
    "X_2 = np.concatenate((X_const, X_2), axis = 1)\n",
    "\n",
    "Beta_1 = np.ones(6).reshape((6, 1))\n",
    "Beta_2 = np.array([1, -1, 0, -1, 0, 1]).reshape((6, 1))\n",
    "\n",
    "epsilon_1 = np.random.normal(loc=0, scale=1, size=int(obs/2)).reshape((int(obs/2), 1))\n",
    "epsilon_2 = np.random.normal(loc=0, scale=1, size=int(obs/2)).reshape((int(obs/2), 1))\n",
    "\n",
    "Y_1 = X_1@Beta_1 + epsilon_1\n",
    "Y_2 = X_2@Beta_2 + epsilon_2\n",
    "\n",
    "Y = np.concatenate((Y_1, Y_2), axis = 0)\n",
    "X = np.concatenate((X_1, X_2), axis = 0)\n",
    "epsilon =  np.concatenate((epsilon_1, epsilon_2), axis = 0)"
   ]
  },
  {
   "cell_type": "code",
   "execution_count": 45,
   "id": "fee17b58",
   "metadata": {},
   "outputs": [
    {
     "name": "stdout",
     "output_type": "stream",
     "text": [
      "Shape of Y: (200, 1) \n",
      "Shape of X: (200, 6) \n"
     ]
    }
   ],
   "source": [
    "print('Shape of Y: {} '.format(Y.shape))\n",
    "print('Shape of X: {} '.format(X.shape))"
   ]
  },
  {
   "cell_type": "code",
   "execution_count": 46,
   "id": "73f46709",
   "metadata": {},
   "outputs": [
    {
     "data": {
      "text/plain": [
       "array([[ 1],\n",
       "       [-1],\n",
       "       [ 0],\n",
       "       [-1],\n",
       "       [ 0],\n",
       "       [ 1]])"
      ]
     },
     "execution_count": 46,
     "metadata": {},
     "output_type": "execute_result"
    }
   ],
   "source": [
    "Beta_2"
   ]
  },
  {
   "cell_type": "code",
   "execution_count": null,
   "id": "042f4920",
   "metadata": {},
   "outputs": [],
   "source": []
  },
  {
   "cell_type": "markdown",
   "id": "edba01de",
   "metadata": {},
   "source": [
    "## Preparation for implementation"
   ]
  },
  {
   "cell_type": "code",
   "execution_count": 47,
   "id": "0da3ad7d",
   "metadata": {
    "scrolled": false
   },
   "outputs": [
    {
     "data": {
      "text/plain": [
       "array([[ 1.,  1.,  1.,  1.,  1.,  1.],\n",
       "       [ 1.,  1.,  1.,  1.,  1.,  1.],\n",
       "       [ 1.,  1.,  1.,  1.,  1.,  1.],\n",
       "       ...,\n",
       "       [ 1., -1.,  0., -1.,  0.,  1.],\n",
       "       [ 1., -1.,  0., -1.,  0.,  1.],\n",
       "       [ 1., -1.,  0., -1.,  0.,  1.]])"
      ]
     },
     "execution_count": 47,
     "metadata": {},
     "output_type": "execute_result"
    }
   ],
   "source": [
    "# Create true matrix for Beta\n",
    "Beta_1_con = Beta_1\n",
    "Beta_2_con = Beta_2\n",
    "\n",
    "for i in range(int(obs/2)-1):\n",
    "    Beta_1_con = np.concatenate((Beta_1_con, Beta_1), axis = 1)\n",
    "    Beta_2_con = np.concatenate((Beta_2_con, Beta_2), axis = 1)\n",
    "\n",
    "True_Beta = np.concatenate((Beta_1_con, Beta_2_con), axis = 1).T\n",
    "True_Beta"
   ]
  },
  {
   "cell_type": "code",
   "execution_count": 48,
   "id": "340928af",
   "metadata": {},
   "outputs": [
    {
     "data": {
      "text/plain": [
       "189.69794730645606"
      ]
     },
     "execution_count": 48,
     "metadata": {},
     "output_type": "execute_result"
    }
   ],
   "source": [
    "# True sum of squared residuals\n",
    "resid = Y - np.sum(np.multiply(X, True_Beta), axis = 1).reshape((obs, 1))\n",
    "ssr = np.sum(np.square(resid))\n",
    "ssr"
   ]
  },
  {
   "cell_type": "markdown",
   "id": "45a33826",
   "metadata": {},
   "source": [
    "## Implementation"
   ]
  },
  {
   "cell_type": "code",
   "execution_count": 54,
   "id": "6794fa05",
   "metadata": {
    "scrolled": false
   },
   "outputs": [
    {
     "name": "stdout",
     "output_type": "stream",
     "text": [
      "Gurobi Optimizer version 10.0.1 build v10.0.1rc0 (mac64[x86])\n",
      "\n",
      "CPU model: Intel(R) Core(TM) i5-8257U CPU @ 1.40GHz\n",
      "Thread count: 4 physical cores, 8 logical processors, using up to 8 threads\n",
      "\n",
      "Optimize a model with 2389 rows, 1399 columns and 7363 nonzeros\n",
      "Model fingerprint: 0x783330ab\n",
      "Model has 4200 quadratic objective terms\n",
      "Variable types: 1200 continuous, 199 integer (199 binary)\n",
      "Coefficient statistics:\n",
      "  Matrix range     [1e+00, 1e+02]\n",
      "  Objective range  [5e-04, 5e+01]\n",
      "  QObjective range [1e-08, 3e+01]\n",
      "  Bounds range     [1e+00, 1e+00]\n",
      "  RHS range        [1e+00, 1e+00]\n",
      "Found heuristic solution: objective 1356.4329277\n",
      "Presolve time: 0.02s\n",
      "Presolved: 2389 rows, 1399 columns, 7363 nonzeros\n",
      "Presolved model has 4200 quadratic objective terms\n",
      "Variable types: 1200 continuous, 199 integer (199 binary)\n",
      "\n",
      "Root relaxation: objective 2.000000e+01, 4063 iterations, 0.45 seconds (0.54 work units)\n",
      "\n",
      "    Nodes    |    Current Node    |     Objective Bounds      |     Work\n",
      " Expl Unexpl |  Obj  Depth IntInf | Incumbent    BestBd   Gap | It/Node Time\n",
      "\n",
      "     0     0   20.00000    0  166 1356.43293   20.00000  98.5%     -    0s\n",
      "     0     0   20.00000    0  166 1356.43293   20.00000  98.5%     -    1s\n",
      "     0     2   20.00000    0  166 1356.43293   20.00000  98.5%     -    1s\n",
      "*    2     2               1     398.6193064   20.00000  95.0%  3642    2s\n",
      "     7     2   20.00000    4  163  398.61931   20.00000  95.0%  3100    5s\n",
      "    13     2   20.00000    7  159  398.61931   20.00000  95.0%  3847   11s\n",
      "    17     2   20.00000    9  157  398.61931   20.00000  95.0%  4110   15s\n",
      "*   23     3              11     395.9989157   20.00000  94.9%  4148   17s\n",
      "*   28     3              15     215.5664218   20.00000  90.7%  4357   20s\n",
      "*   47     2              24     209.3144615   23.64000  88.7%  4175   26s\n",
      "    69     5     cutoff   35       209.31446   23.64000  88.7%  4162   31s\n",
      "    84     2   28.26633   42  128  209.31446   23.64000  88.7%  3949   35s\n",
      "   105     7     cutoff   56       209.31446   23.64000  88.7%  3824   41s\n",
      "   127    10   28.26633   66  112  209.31446   23.64000  88.7%  3725   46s\n",
      "   148    18     cutoff   70       209.31446   23.64000  88.7%  3663   50s\n",
      "*  171    27              67     204.3667458   23.64000  88.4%  3410   52s\n",
      "   194    27     cutoff  102       204.36675   23.64000  88.4%  3319   56s\n",
      "   244    40  106.70867  139   55  204.36675   23.64000  88.4%  3016   61s\n",
      "   307    20     cutoff  171       204.36675   23.64000  88.4%  2737   66s\n",
      "\n",
      "Explored 353 nodes (948473 simplex iterations) in 69.26 seconds (108.30 work units)\n",
      "Thread count was 8 (of 8 available processors)\n",
      "\n",
      "Solution count 6: 204.367 209.314 215.566 ... 1356.43\n",
      "\n",
      "Sub-optimal termination (unable to solve some node relaxations)\n",
      "Best objective 2.043667457776e+02, best bound 2.364000238574e+01, gap 88.4326%\n",
      "------------------------------------\n",
      "objective function is minimised at: 204.37\n"
     ]
    }
   ],
   "source": [
    "# create a model instance called Diet\n",
    "M = grb.Model('MIOP')\n",
    "\n",
    "time = 200\n",
    "number_of_covariates = X.shape[1]\n",
    "\n",
    "# set decision variables\n",
    "beta = M.addMVar((time, 6), lb = -GRB.INFINITY) # change default setting lb = 0\n",
    "Z = M.addMVar(time-1, vtype=GRB.BINARY)\n",
    "\n",
    "# set objective function\n",
    "Lambda  = 20\n",
    "M.setObjective(grb.quicksum((Y[t]-X[t, :]@beta[t,:].T)*(Y[t]-X[t, :]@beta[t, :].T) for t in range(time)) + Lambda*grb.quicksum(Z))\n",
    "\n",
    "# add constraints\n",
    "# for i in range(time-1):\n",
    " #   M.addConstrs((Z[i] == 0) >> (beta[i, j] == beta[i+1, j]) for j in range(number_of_covariates))\n",
    "    \n",
    "# Big M\n",
    "M_num = 100\n",
    "for t in range(time-1):\n",
    "    M.addConstrs( beta[t+1, p] - beta[t, p] <= M_num*Z[t] for p in range(number_of_covariates))\n",
    "    M.addConstrs( beta[t+1, p] - beta[t, p] >= -1*M_num*Z[t] for p in range(number_of_covariates))\n",
    "M.addConstr(Z.sum() == 1)   \n",
    "M.optimize()\n",
    "\n",
    "print('------------------------------------')\n",
    "# value of objective function\n",
    "print('objective function is minimised at: {:.2f}'.format(M.objVal))"
   ]
  },
  {
   "cell_type": "code",
   "execution_count": 55,
   "id": "efe7d118",
   "metadata": {
    "scrolled": true
   },
   "outputs": [
    {
     "data": {
      "text/plain": [
       "array([-0., -0., -0., -0., -0.,  0., -0., -0.,  0.,  0., -0., -0.,  0.,\n",
       "        0.,  0., -0.,  0.,  0.,  0., -0., -0.,  0., -0., -0., -0., -0.,\n",
       "       -0.,  0.,  0., -0., -0., -0., -0.,  0.,  0., -0., -0., -0., -0.,\n",
       "       -0., -0., -0.,  0.,  0., -0.,  0., -0., -0., -0.,  0., -0., -0.,\n",
       "       -0., -0., -0., -0., -0., -0.,  0.,  0., -0.,  0., -0., -0.,  0.,\n",
       "        0.,  0.,  0.,  0.,  0.,  0.,  0., -0.,  0.,  0.,  0.,  0.,  0.,\n",
       "       -0.,  0.,  0., -0.,  0., -0.,  0.,  0., -0., -0., -0., -0., -0.,\n",
       "       -0., -0.,  0.,  0.,  0.,  0.,  0., -0.,  1., -0., -0., -0., -0.,\n",
       "       -0., -0.,  0., -0., -0., -0.,  0.,  0.,  0.,  0.,  0.,  0.,  0.,\n",
       "       -0.,  0., -0., -0., -0.,  0., -0.,  0.,  0.,  0.,  0.,  0.,  0.,\n",
       "        0.,  0.,  0.,  0.,  0.,  0.,  0.,  0.,  0.,  0.,  0., -0., -0.,\n",
       "       -0., -0., -0., -0., -0., -0., -0.,  0.,  0., -0., -0.,  0., -0.,\n",
       "        0.,  0., -0.,  0.,  0.,  0.,  0.,  0.,  0.,  0.,  0., -0.,  0.,\n",
       "        0.,  0.,  0.,  0.,  0., -0.,  0.,  0.,  0.,  0.,  0.,  0.,  0.,\n",
       "        0.,  0., -0.,  0., -0., -0., -0.,  0., -0., -0., -0.,  0., -0.,\n",
       "        0.,  0.,  0.,  0.])"
      ]
     },
     "execution_count": 55,
     "metadata": {},
     "output_type": "execute_result"
    }
   ],
   "source": [
    "Z.X"
   ]
  },
  {
   "cell_type": "code",
   "execution_count": 56,
   "id": "0b8d14d9",
   "metadata": {
    "scrolled": true
   },
   "outputs": [
    {
     "data": {
      "text/plain": [
       "(array([99]),)"
      ]
     },
     "execution_count": 56,
     "metadata": {},
     "output_type": "execute_result"
    }
   ],
   "source": [
    "np.where(Z.X == 1)"
   ]
  },
  {
   "cell_type": "code",
   "execution_count": null,
   "id": "b3076f9e",
   "metadata": {},
   "outputs": [],
   "source": []
  },
  {
   "cell_type": "code",
   "execution_count": null,
   "id": "8c008d44",
   "metadata": {},
   "outputs": [],
   "source": []
  },
  {
   "cell_type": "code",
   "execution_count": null,
   "id": "b1cbcff3",
   "metadata": {},
   "outputs": [],
   "source": []
  },
  {
   "cell_type": "code",
   "execution_count": null,
   "id": "f96a7cfe",
   "metadata": {},
   "outputs": [],
   "source": []
  },
  {
   "cell_type": "code",
   "execution_count": null,
   "id": "6420d06c",
   "metadata": {},
   "outputs": [],
   "source": []
  },
  {
   "cell_type": "code",
   "execution_count": null,
   "id": "3e469b01",
   "metadata": {},
   "outputs": [],
   "source": []
  },
  {
   "cell_type": "code",
   "execution_count": null,
   "id": "8b4ecd13",
   "metadata": {},
   "outputs": [],
   "source": []
  },
  {
   "cell_type": "code",
   "execution_count": null,
   "id": "dc2baa46",
   "metadata": {},
   "outputs": [],
   "source": []
  },
  {
   "cell_type": "code",
   "execution_count": null,
   "id": "dd5d68cc",
   "metadata": {},
   "outputs": [],
   "source": []
  },
  {
   "cell_type": "code",
   "execution_count": null,
   "id": "51abd5b5",
   "metadata": {},
   "outputs": [],
   "source": [
    "test = np.array([1, 0, 1])\n",
    "test2 = np.array([1, 0, 1])\n",
    "np.allclose(test, test2)"
   ]
  },
  {
   "cell_type": "code",
   "execution_count": null,
   "id": "639380e3",
   "metadata": {},
   "outputs": [],
   "source": [
    "Z_list[1]"
   ]
  },
  {
   "cell_type": "code",
   "execution_count": null,
   "id": "994e2cbf",
   "metadata": {},
   "outputs": [],
   "source": [
    "len(Z)"
   ]
  },
  {
   "cell_type": "code",
   "execution_count": null,
   "id": "b7de933e",
   "metadata": {},
   "outputs": [],
   "source": []
  },
  {
   "cell_type": "code",
   "execution_count": null,
   "id": "de0d14b2",
   "metadata": {},
   "outputs": [],
   "source": [
    "# compute the residual for each time\n",
    "for i in 1:obs:\n",
    "    resid_calc = Y[1] - "
   ]
  },
  {
   "cell_type": "code",
   "execution_count": null,
   "id": "46b86520",
   "metadata": {},
   "outputs": [],
   "source": [
    "Y[1]\n"
   ]
  },
  {
   "cell_type": "code",
   "execution_count": null,
   "id": "db3d5b46",
   "metadata": {},
   "outputs": [],
   "source": []
  },
  {
   "cell_type": "code",
   "execution_count": null,
   "id": "882750e1",
   "metadata": {},
   "outputs": [],
   "source": [
    "# compute residulas using matrix\n",
    "resid = Y - np.sum(np.multiply(X, True_Beta), axis = 1).reshape((obs, 1))\n",
    "resid"
   ]
  },
  {
   "cell_type": "code",
   "execution_count": null,
   "id": "f72125b4",
   "metadata": {},
   "outputs": [],
   "source": [
    "epsilon"
   ]
  },
  {
   "cell_type": "code",
   "execution_count": null,
   "id": "132f1042",
   "metadata": {},
   "outputs": [],
   "source": [
    "# residual is equivalent to epsilon\n",
    "# Squared sum of squares should be:\n",
    "resid = Y - np.sum(np.multiply(X, True_Beta), axis = 1).reshape((obs, 1))\n",
    "SSR = np.sum(np.square(resid))\n",
    "SSR"
   ]
  },
  {
   "cell_type": "code",
   "execution_count": null,
   "id": "72adb4ba",
   "metadata": {},
   "outputs": [],
   "source": [
    "# we can use l1 norm ?\n",
    "np.linalg.norm(np.square(resid), ord=1)"
   ]
  },
  {
   "cell_type": "markdown",
   "id": "b4db1d31",
   "metadata": {},
   "source": [
    "## Implementation"
   ]
  },
  {
   "cell_type": "code",
   "execution_count": null,
   "id": "93290904",
   "metadata": {},
   "outputs": [],
   "source": [
    "# create a model instance called Diet\n",
    "M = grb.Model('MIOP')\n",
    "\n",
    "# set decision variables\n",
    "beta = M.addMVar((20, 5), lb = -100) # change default setting lb = 0\n",
    "Z = M.addMVar((20, 5), vtype=GRB.BINARY)\n",
    "\n",
    "# set objective function\n",
    "Xbeta = np.sum(np.multiply(X, beta), axis = 1).reshape((20, 1))\n",
    "M.setObjective(np.linalg.norm(np.square(Y - Xbeta), ord=1))"
   ]
  },
  {
   "cell_type": "code",
   "execution_count": null,
   "id": "f2f04b77",
   "metadata": {},
   "outputs": [],
   "source": [
    "range(6)"
   ]
  },
  {
   "cell_type": "code",
   "execution_count": null,
   "id": "bbda4b01",
   "metadata": {},
   "outputs": [],
   "source": []
  },
  {
   "cell_type": "code",
   "execution_count": null,
   "id": "7968398a",
   "metadata": {},
   "outputs": [],
   "source": [
    "# create a model instance called Diet\n",
    "M = grb.Model('MIOP')\n",
    "\n",
    "# set decision variables\n",
    "x = M.addMVar(6)\n",
    "\n",
    "# c^T\n",
    "c = np.array([2,3.5,8,1.5,11,1])\n",
    "\n",
    "# A\n",
    "A = np.array([\n",
    "    [-4,-8,-7,-1.3,-8,-9.2],\n",
    "    [1,5,9,0.1,7,1],\n",
    "    [15,11.7,0.4,22.6,0,17],\n",
    "    [90,120,106,97,130,180],\n",
    "    [0,0,0,0,1,0],\n",
    "    [0,-1,0,0,0,0]\n",
    "])\n",
    "\n",
    "# b\n",
    "b = np.array([-10,8,10,300,0.5,-1])\n",
    "\n",
    "# inner products of C^T and x\n",
    "M.setObjective(c@x)\n",
    "\n",
    "# Ax >= b\n",
    "M.addConstr(A@x >= b)\n",
    "\n",
    "M.optimize()\n",
    "print('------------------------------------')\n",
    "# value of objective function\n",
    "print('Cost is minimised at: {:.2f}'.format(M.objVal))\n",
    "\n",
    "food = ['bread', 'milk', 'cheese','potato','fish','yogurt'] \n",
    "\n",
    "# where item comes from?\n",
    "for tomo in range(len(food)):\n",
    "    print(tomo)\n",
    "    print('{:.2f} units of {} is included in the diet.'.format(x.x[tomo],food[tomo]))"
   ]
  },
  {
   "cell_type": "code",
   "execution_count": null,
   "id": "14089281",
   "metadata": {},
   "outputs": [],
   "source": []
  },
  {
   "cell_type": "code",
   "execution_count": null,
   "id": "6fb5db07",
   "metadata": {},
   "outputs": [],
   "source": []
  },
  {
   "cell_type": "code",
   "execution_count": null,
   "id": "70bb2799",
   "metadata": {},
   "outputs": [],
   "source": []
  },
  {
   "cell_type": "code",
   "execution_count": null,
   "id": "5402e5b5",
   "metadata": {},
   "outputs": [],
   "source": []
  }
 ],
 "metadata": {
  "kernelspec": {
   "display_name": "Python 3 (ipykernel)",
   "language": "python",
   "name": "python3"
  },
  "language_info": {
   "codemirror_mode": {
    "name": "ipython",
    "version": 3
   },
   "file_extension": ".py",
   "mimetype": "text/x-python",
   "name": "python",
   "nbconvert_exporter": "python",
   "pygments_lexer": "ipython3",
   "version": "3.9.13"
  },
  "toc": {
   "base_numbering": 1,
   "nav_menu": {},
   "number_sections": false,
   "sideBar": true,
   "skip_h1_title": false,
   "title_cell": "Table of Contents",
   "title_sidebar": "Contents",
   "toc_cell": false,
   "toc_position": {},
   "toc_section_display": true,
   "toc_window_display": false
  }
 },
 "nbformat": 4,
 "nbformat_minor": 5
}
