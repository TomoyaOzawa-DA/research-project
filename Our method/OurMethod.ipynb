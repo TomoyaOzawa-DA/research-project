{
 "cells": [
  {
   "cell_type": "markdown",
   "id": "70b0d40c",
   "metadata": {},
   "source": [
    "# Our method"
   ]
  },
  {
   "cell_type": "code",
   "execution_count": 1,
   "id": "01e3f8bf",
   "metadata": {},
   "outputs": [],
   "source": [
    "import numpy as np\n",
    "import gurobipy as grb\n",
    "from gurobipy import GRB\n",
    "import random"
   ]
  },
  {
   "cell_type": "markdown",
   "id": "84fcce53",
   "metadata": {},
   "source": [
    "## Simulated data"
   ]
  },
  {
   "cell_type": "code",
   "execution_count": 2,
   "id": "154d30b6",
   "metadata": {},
   "outputs": [],
   "source": [
    "# obs: observed period: t = 1, 2, ... , obs\n",
    "# first half data is generated based on Beta_1, while the others are based on Beta_2\n",
    "obs = 20"
   ]
  },
  {
   "cell_type": "code",
   "execution_count": 5,
   "id": "7260eca9",
   "metadata": {},
   "outputs": [],
   "source": [
    "np.random.seed(123)\n",
    "mean = np.zeros(5)\n",
    "cov = np.diag(np.ones(5))\n",
    "X_const = np.ones(int(obs/2)).reshape((int(obs/2), 1))\n",
    "X_1 = np.random.multivariate_normal(mean, cov, int(obs/2))\n",
    "X_2 = np.random.multivariate_normal(mean, cov, int(obs/2))\n",
    "\n",
    "X_1 = np.concatenate((X_const, X_1), axis = 1)\n",
    "X_2 = np.concatenate((X_const, X_2), axis = 1)\n",
    "\n",
    "Beta_1 = np.ones(6).reshape((6, 1))\n",
    "Beta_2 = np.array([1, -1, 0, -1, 0, 1]).reshape((6, 1))\n",
    "\n",
    "epsilon_1 = np.random.normal(loc=0, scale=1, size=int(obs/2)).reshape((int(obs/2), 1))\n",
    "epsilon_2 = np.random.normal(loc=0, scale=1, size=int(obs/2)).reshape((int(obs/2), 1))\n",
    "\n",
    "Y_1 = X_1@Beta_1 + epsilon_1\n",
    "Y_2 = X_2@Beta_2 + epsilon_2\n",
    "\n",
    "Y = np.concatenate((Y_1, Y_2), axis = 0)\n",
    "X = np.concatenate((X_1, X_2), axis = 0)\n",
    "epsilon =  np.concatenate((epsilon_1, epsilon_2), axis = 0)"
   ]
  },
  {
   "cell_type": "code",
   "execution_count": 6,
   "id": "fee17b58",
   "metadata": {},
   "outputs": [
    {
     "name": "stdout",
     "output_type": "stream",
     "text": [
      "Shape of Y: (20, 1) \n",
      "Shape of X: (20, 6) \n"
     ]
    }
   ],
   "source": [
    "print('Shape of Y: {} '.format(Y.shape))\n",
    "print('Shape of X: {} '.format(X.shape))"
   ]
  },
  {
   "cell_type": "code",
   "execution_count": 9,
   "id": "73f46709",
   "metadata": {},
   "outputs": [
    {
     "data": {
      "text/plain": [
       "array([[1.],\n",
       "       [1.],\n",
       "       [1.],\n",
       "       [1.],\n",
       "       [1.],\n",
       "       [1.]])"
      ]
     },
     "execution_count": 9,
     "metadata": {},
     "output_type": "execute_result"
    }
   ],
   "source": [
    "Beta_1"
   ]
  },
  {
   "cell_type": "code",
   "execution_count": null,
   "id": "042f4920",
   "metadata": {},
   "outputs": [],
   "source": []
  },
  {
   "cell_type": "markdown",
   "id": "edba01de",
   "metadata": {},
   "source": [
    "## Preparation for implementation"
   ]
  },
  {
   "cell_type": "code",
   "execution_count": 11,
   "id": "0da3ad7d",
   "metadata": {
    "scrolled": false
   },
   "outputs": [
    {
     "data": {
      "text/plain": [
       "array([[ 1.,  1.,  1.,  1.,  1.,  1.],\n",
       "       [ 1.,  1.,  1.,  1.,  1.,  1.],\n",
       "       [ 1.,  1.,  1.,  1.,  1.,  1.],\n",
       "       [ 1.,  1.,  1.,  1.,  1.,  1.],\n",
       "       [ 1.,  1.,  1.,  1.,  1.,  1.],\n",
       "       [ 1.,  1.,  1.,  1.,  1.,  1.],\n",
       "       [ 1.,  1.,  1.,  1.,  1.,  1.],\n",
       "       [ 1.,  1.,  1.,  1.,  1.,  1.],\n",
       "       [ 1.,  1.,  1.,  1.,  1.,  1.],\n",
       "       [ 1.,  1.,  1.,  1.,  1.,  1.],\n",
       "       [ 1., -1.,  0., -1.,  0.,  1.],\n",
       "       [ 1., -1.,  0., -1.,  0.,  1.],\n",
       "       [ 1., -1.,  0., -1.,  0.,  1.],\n",
       "       [ 1., -1.,  0., -1.,  0.,  1.],\n",
       "       [ 1., -1.,  0., -1.,  0.,  1.],\n",
       "       [ 1., -1.,  0., -1.,  0.,  1.],\n",
       "       [ 1., -1.,  0., -1.,  0.,  1.],\n",
       "       [ 1., -1.,  0., -1.,  0.,  1.],\n",
       "       [ 1., -1.,  0., -1.,  0.,  1.],\n",
       "       [ 1., -1.,  0., -1.,  0.,  1.]])"
      ]
     },
     "execution_count": 11,
     "metadata": {},
     "output_type": "execute_result"
    }
   ],
   "source": [
    "# Create true matrix for Beta\n",
    "Beta_1_con = Beta_1\n",
    "Beta_2_con = Beta_2\n",
    "\n",
    "for i in range(int(obs/2)-1):\n",
    "    Beta_1_con = np.concatenate((Beta_1_con, Beta_1), axis = 1)\n",
    "    Beta_2_con = np.concatenate((Beta_2_con, Beta_2), axis = 1)\n",
    "\n",
    "True_Beta = np.concatenate((Beta_1_con, Beta_2_con), axis = 1).T\n",
    "True_Beta"
   ]
  },
  {
   "cell_type": "code",
   "execution_count": 12,
   "id": "340928af",
   "metadata": {},
   "outputs": [
    {
     "data": {
      "text/plain": [
       "31.395592798333702"
      ]
     },
     "execution_count": 12,
     "metadata": {},
     "output_type": "execute_result"
    }
   ],
   "source": [
    "# True sum of squared residuals\n",
    "resid = Y - np.sum(np.multiply(X, True_Beta), axis = 1).reshape((obs, 1))\n",
    "ssr = np.sum(np.square(resid))\n",
    "ssr"
   ]
  },
  {
   "cell_type": "markdown",
   "id": "45a33826",
   "metadata": {},
   "source": [
    "## Implementation"
   ]
  },
  {
   "cell_type": "code",
   "execution_count": 17,
   "id": "6794fa05",
   "metadata": {
    "scrolled": false
   },
   "outputs": [
    {
     "name": "stdout",
     "output_type": "stream",
     "text": [
      "Gurobi Optimizer version 10.0.1 build v10.0.1rc0 (mac64[x86])\n",
      "\n",
      "CPU model: Intel(R) Core(TM) i5-8257U CPU @ 1.40GHz\n",
      "Thread count: 4 physical cores, 8 logical processors, using up to 8 threads\n",
      "\n",
      "Optimize a model with 0 rows, 139 columns and 0 nonzeros\n",
      "Model fingerprint: 0x024b99b8\n",
      "Model has 420 quadratic objective terms\n",
      "Model has 114 general constraints\n",
      "Variable types: 120 continuous, 19 integer (19 binary)\n",
      "Coefficient statistics:\n",
      "  Matrix range     [0e+00, 0e+00]\n",
      "  Objective range  [5e-03, 4e+01]\n",
      "  QObjective range [2e-05, 2e+01]\n",
      "  Bounds range     [1e+00, 1e+00]\n",
      "  RHS range        [0e+00, 0e+00]\n",
      "  GenCon coe range [1e+00, 1e+00]\n",
      "Found heuristic solution: objective 169.5714442\n",
      "Presolve added 114 rows and 114 columns\n",
      "Presolve time: 0.00s\n",
      "Presolved: 114 rows, 253 columns, 342 nonzeros\n",
      "Presolved model has 114 SOS constraint(s)\n",
      "Presolved model has 420 quadratic objective terms\n",
      "Variable types: 234 continuous, 19 integer (19 binary)\n",
      "\n",
      "Root relaxation: objective 5.684342e-14, 128 iterations, 0.00 seconds (0.00 work units)\n",
      "\n",
      "    Nodes    |    Current Node    |     Objective Bounds      |     Work\n",
      " Expl Unexpl |  Obj  Depth IntInf | Incumbent    BestBd   Gap | It/Node Time\n",
      "\n",
      "     0     0    0.00000    0   36  169.57144    0.00000   100%     -    0s\n",
      "H    0     0                      55.0488044    0.00000   100%     -    0s\n",
      "     0     0    0.00000    0   36   55.04880    0.00000   100%     -    0s\n",
      "H    0     0                      44.2812697    0.00000   100%     -    0s\n",
      "H    0     0                      40.0569044    0.00000   100%     -    0s\n",
      "     0     2    0.00000    0   36   40.05690    0.00000   100%     -    0s\n",
      "H    7    12                      35.5787851    0.00000   100%   6.4    0s\n",
      "H    9    12                      25.5642334    0.00000   100%   5.0    0s\n",
      "*   69    20              10      25.4430339    6.54369  74.3%  73.1    0s\n",
      "*   75    18              11      25.3271766    6.54369  74.2%  76.5    0s\n",
      "*   91    16              11      24.4104084    6.54369  73.2%  75.8    0s\n",
      "*  108    12              12      22.2974693   10.00000  55.2%  71.5    0s\n",
      "\n",
      "Explored 207 nodes (14360 simplex iterations) in 0.12 seconds (0.08 work units)\n",
      "Thread count was 8 (of 8 available processors)\n",
      "\n",
      "Solution count 9: 22.2975 24.4104 25.3272 ... 55.0488\n",
      "\n",
      "Optimal solution found (tolerance 1.00e-04)\n",
      "Best objective 2.229746929198e+01, best bound 2.229746929198e+01, gap 0.0000%\n",
      "------------------------------------\n",
      "objective function is minimised at: 22.30\n"
     ]
    }
   ],
   "source": [
    "# create a model instance called Diet\n",
    "M = grb.Model('MIOP')\n",
    "\n",
    "time = 20\n",
    "number_of_covariates = X.shape[1]\n",
    "\n",
    "# set decision variables\n",
    "beta = M.addMVar((time, 6), lb = -GRB.INFINITY) # change default setting lb = 0\n",
    "Z = M.addMVar(time-1, vtype=GRB.BINARY)\n",
    "\n",
    "# set objective function\n",
    "Lambda  = 10\n",
    "M.setObjective(grb.quicksum((Y[t]-X[t, :]@beta[t,:].T)*(Y[t]-X[t, :]@beta[t, :].T) for t in range(time)) + Lambda*grb.quicksum(Z))\n",
    "\n",
    "# add constraints\n",
    "for i in range(time-1):\n",
    "    M.addConstrs((Z[i] == 0) >> (beta[i, j] == beta[i+1, j]) for j in range(number_of_covariates))\n",
    "    \n",
    "M.optimize()\n",
    "\n",
    "print('------------------------------------')\n",
    "# value of objective function\n",
    "print('objective function is minimised at: {:.2f}'.format(M.objVal))"
   ]
  },
  {
   "cell_type": "code",
   "execution_count": 15,
   "id": "efe7d118",
   "metadata": {
    "scrolled": true
   },
   "outputs": [
    {
     "data": {
      "text/plain": [
       "array([0., 0., 0., 0., 0., 0., 0., 1., 0., 0., 0., 0., 0., 1., 0., 0., 0.,\n",
       "       0., 0.])"
      ]
     },
     "execution_count": 15,
     "metadata": {},
     "output_type": "execute_result"
    }
   ],
   "source": [
    "Z.X"
   ]
  },
  {
   "cell_type": "code",
   "execution_count": 16,
   "id": "0b8d14d9",
   "metadata": {
    "scrolled": true
   },
   "outputs": [
    {
     "data": {
      "text/plain": [
       "array([[ 0.85083017, -1.66090683,  0.77635842,  1.10991144,  2.73061996,\n",
       "         1.0247115 ],\n",
       "       [ 0.85083017, -1.66090683,  0.77635842,  1.10991144,  2.73061996,\n",
       "         1.0247115 ],\n",
       "       [ 0.85083017, -1.66090683,  0.77635842,  1.10991144,  2.73061996,\n",
       "         1.0247115 ],\n",
       "       [ 0.85083017, -1.66090683,  0.77635842,  1.10991144,  2.73061996,\n",
       "         1.0247115 ],\n",
       "       [ 0.85083017, -1.66090683,  0.77635842,  1.10991144,  2.73061996,\n",
       "         1.0247115 ],\n",
       "       [ 0.85083017, -1.66090683,  0.77635842,  1.10991144,  2.73061996,\n",
       "         1.0247115 ],\n",
       "       [ 0.85083017, -1.66090683,  0.77635842,  1.10991144,  2.73061996,\n",
       "         1.0247115 ],\n",
       "       [ 0.85083017, -1.66090683,  0.77635842,  1.10991144,  2.73061996,\n",
       "         1.0247115 ],\n",
       "       [ 4.2129565 , -2.16405455,  3.67526906, -1.26825848,  0.9093843 ,\n",
       "        -3.57108302],\n",
       "       [ 4.2129565 , -2.16405455,  3.67526906, -1.26825848,  0.9093843 ,\n",
       "        -3.57108302],\n",
       "       [ 4.2129565 , -2.16405455,  3.67526906, -1.26825848,  0.9093843 ,\n",
       "        -3.57108302],\n",
       "       [ 4.2129565 , -2.16405455,  3.67526906, -1.26825848,  0.9093843 ,\n",
       "        -3.57108302],\n",
       "       [ 4.2129565 , -2.16405455,  3.67526906, -1.26825848,  0.9093843 ,\n",
       "        -3.57108302],\n",
       "       [ 4.2129565 , -2.16405455,  3.67526906, -1.26825848,  0.9093843 ,\n",
       "        -3.57108302],\n",
       "       [-9.93108592,  1.16220331,  0.16434048, -1.70228506,  6.56092098,\n",
       "        -7.98799616],\n",
       "       [-9.93108592,  1.16220331,  0.16434048, -1.70228506,  6.56092098,\n",
       "        -7.98799616],\n",
       "       [-9.93108592,  1.16220331,  0.16434048, -1.70228506,  6.56092098,\n",
       "        -7.98799616],\n",
       "       [-9.93108592,  1.16220331,  0.16434048, -1.70228506,  6.56092098,\n",
       "        -7.98799616],\n",
       "       [-9.93108592,  1.16220331,  0.16434048, -1.70228506,  6.56092098,\n",
       "        -7.98799616],\n",
       "       [-9.93108592,  1.16220331,  0.16434048, -1.70228506,  6.56092098,\n",
       "        -7.98799616]])"
      ]
     },
     "execution_count": 16,
     "metadata": {},
     "output_type": "execute_result"
    }
   ],
   "source": [
    "beta.X"
   ]
  },
  {
   "cell_type": "code",
   "execution_count": null,
   "id": "b3076f9e",
   "metadata": {},
   "outputs": [],
   "source": []
  },
  {
   "cell_type": "code",
   "execution_count": null,
   "id": "8c008d44",
   "metadata": {},
   "outputs": [],
   "source": []
  },
  {
   "cell_type": "code",
   "execution_count": null,
   "id": "b1cbcff3",
   "metadata": {},
   "outputs": [],
   "source": []
  },
  {
   "cell_type": "code",
   "execution_count": null,
   "id": "f96a7cfe",
   "metadata": {},
   "outputs": [],
   "source": []
  },
  {
   "cell_type": "code",
   "execution_count": null,
   "id": "6420d06c",
   "metadata": {},
   "outputs": [],
   "source": []
  },
  {
   "cell_type": "code",
   "execution_count": null,
   "id": "3e469b01",
   "metadata": {},
   "outputs": [],
   "source": []
  },
  {
   "cell_type": "code",
   "execution_count": null,
   "id": "8b4ecd13",
   "metadata": {},
   "outputs": [],
   "source": []
  },
  {
   "cell_type": "code",
   "execution_count": null,
   "id": "dc2baa46",
   "metadata": {},
   "outputs": [],
   "source": []
  },
  {
   "cell_type": "code",
   "execution_count": null,
   "id": "dd5d68cc",
   "metadata": {},
   "outputs": [],
   "source": []
  },
  {
   "cell_type": "code",
   "execution_count": null,
   "id": "51abd5b5",
   "metadata": {},
   "outputs": [],
   "source": [
    "test = np.array([1, 0, 1])\n",
    "test2 = np.array([1, 0, 1])\n",
    "np.allclose(test, test2)"
   ]
  },
  {
   "cell_type": "code",
   "execution_count": null,
   "id": "639380e3",
   "metadata": {},
   "outputs": [],
   "source": [
    "Z_list[1]"
   ]
  },
  {
   "cell_type": "code",
   "execution_count": null,
   "id": "994e2cbf",
   "metadata": {},
   "outputs": [],
   "source": [
    "len(Z)"
   ]
  },
  {
   "cell_type": "code",
   "execution_count": null,
   "id": "b7de933e",
   "metadata": {},
   "outputs": [],
   "source": []
  },
  {
   "cell_type": "code",
   "execution_count": null,
   "id": "de0d14b2",
   "metadata": {},
   "outputs": [],
   "source": [
    "# compute the residual for each time\n",
    "for i in 1:obs:\n",
    "    resid_calc = Y[1] - "
   ]
  },
  {
   "cell_type": "code",
   "execution_count": null,
   "id": "46b86520",
   "metadata": {},
   "outputs": [],
   "source": [
    "Y[1]\n"
   ]
  },
  {
   "cell_type": "code",
   "execution_count": null,
   "id": "db3d5b46",
   "metadata": {},
   "outputs": [],
   "source": []
  },
  {
   "cell_type": "code",
   "execution_count": null,
   "id": "882750e1",
   "metadata": {},
   "outputs": [],
   "source": [
    "# compute residulas using matrix\n",
    "resid = Y - np.sum(np.multiply(X, True_Beta), axis = 1).reshape((obs, 1))\n",
    "resid"
   ]
  },
  {
   "cell_type": "code",
   "execution_count": null,
   "id": "f72125b4",
   "metadata": {},
   "outputs": [],
   "source": [
    "epsilon"
   ]
  },
  {
   "cell_type": "code",
   "execution_count": null,
   "id": "132f1042",
   "metadata": {},
   "outputs": [],
   "source": [
    "# residual is equivalent to epsilon\n",
    "# Squared sum of squares should be:\n",
    "resid = Y - np.sum(np.multiply(X, True_Beta), axis = 1).reshape((obs, 1))\n",
    "SSR = np.sum(np.square(resid))\n",
    "SSR"
   ]
  },
  {
   "cell_type": "code",
   "execution_count": null,
   "id": "72adb4ba",
   "metadata": {},
   "outputs": [],
   "source": [
    "# we can use l1 norm ?\n",
    "np.linalg.norm(np.square(resid), ord=1)"
   ]
  },
  {
   "cell_type": "markdown",
   "id": "b4db1d31",
   "metadata": {},
   "source": [
    "## Implementation"
   ]
  },
  {
   "cell_type": "code",
   "execution_count": null,
   "id": "93290904",
   "metadata": {},
   "outputs": [],
   "source": [
    "# create a model instance called Diet\n",
    "M = grb.Model('MIOP')\n",
    "\n",
    "# set decision variables\n",
    "beta = M.addMVar((20, 5), lb = -100) # change default setting lb = 0\n",
    "Z = M.addMVar((20, 5), vtype=GRB.BINARY)\n",
    "\n",
    "# set objective function\n",
    "Xbeta = np.sum(np.multiply(X, beta), axis = 1).reshape((20, 1))\n",
    "M.setObjective(np.linalg.norm(np.square(Y - Xbeta), ord=1))"
   ]
  },
  {
   "cell_type": "code",
   "execution_count": null,
   "id": "f2f04b77",
   "metadata": {},
   "outputs": [],
   "source": [
    "range(6)"
   ]
  },
  {
   "cell_type": "code",
   "execution_count": null,
   "id": "bbda4b01",
   "metadata": {},
   "outputs": [],
   "source": []
  },
  {
   "cell_type": "code",
   "execution_count": null,
   "id": "7968398a",
   "metadata": {},
   "outputs": [],
   "source": [
    "# create a model instance called Diet\n",
    "M = grb.Model('MIOP')\n",
    "\n",
    "# set decision variables\n",
    "x = M.addMVar(6)\n",
    "\n",
    "# c^T\n",
    "c = np.array([2,3.5,8,1.5,11,1])\n",
    "\n",
    "# A\n",
    "A = np.array([\n",
    "    [-4,-8,-7,-1.3,-8,-9.2],\n",
    "    [1,5,9,0.1,7,1],\n",
    "    [15,11.7,0.4,22.6,0,17],\n",
    "    [90,120,106,97,130,180],\n",
    "    [0,0,0,0,1,0],\n",
    "    [0,-1,0,0,0,0]\n",
    "])\n",
    "\n",
    "# b\n",
    "b = np.array([-10,8,10,300,0.5,-1])\n",
    "\n",
    "# inner products of C^T and x\n",
    "M.setObjective(c@x)\n",
    "\n",
    "# Ax >= b\n",
    "M.addConstr(A@x >= b)\n",
    "\n",
    "M.optimize()\n",
    "print('------------------------------------')\n",
    "# value of objective function\n",
    "print('Cost is minimised at: {:.2f}'.format(M.objVal))\n",
    "\n",
    "food = ['bread', 'milk', 'cheese','potato','fish','yogurt'] \n",
    "\n",
    "# where item comes from?\n",
    "for tomo in range(len(food)):\n",
    "    print(tomo)\n",
    "    print('{:.2f} units of {} is included in the diet.'.format(x.x[tomo],food[tomo]))"
   ]
  },
  {
   "cell_type": "code",
   "execution_count": null,
   "id": "14089281",
   "metadata": {},
   "outputs": [],
   "source": []
  },
  {
   "cell_type": "code",
   "execution_count": null,
   "id": "6fb5db07",
   "metadata": {},
   "outputs": [],
   "source": []
  },
  {
   "cell_type": "code",
   "execution_count": null,
   "id": "70bb2799",
   "metadata": {},
   "outputs": [],
   "source": []
  },
  {
   "cell_type": "code",
   "execution_count": null,
   "id": "5402e5b5",
   "metadata": {},
   "outputs": [],
   "source": []
  }
 ],
 "metadata": {
  "kernelspec": {
   "display_name": "Python 3 (ipykernel)",
   "language": "python",
   "name": "python3"
  },
  "language_info": {
   "codemirror_mode": {
    "name": "ipython",
    "version": 3
   },
   "file_extension": ".py",
   "mimetype": "text/x-python",
   "name": "python",
   "nbconvert_exporter": "python",
   "pygments_lexer": "ipython3",
   "version": "3.9.13"
  },
  "toc": {
   "base_numbering": 1,
   "nav_menu": {},
   "number_sections": false,
   "sideBar": true,
   "skip_h1_title": false,
   "title_cell": "Table of Contents",
   "title_sidebar": "Contents",
   "toc_cell": false,
   "toc_position": {},
   "toc_section_display": true,
   "toc_window_display": false
  }
 },
 "nbformat": 4,
 "nbformat_minor": 5
}
