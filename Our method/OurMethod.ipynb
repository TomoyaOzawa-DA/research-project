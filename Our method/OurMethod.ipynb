{
 "cells": [
  {
   "cell_type": "markdown",
   "id": "70b0d40c",
   "metadata": {},
   "source": [
    "# Our method"
   ]
  },
  {
   "cell_type": "code",
   "execution_count": 1,
   "id": "01e3f8bf",
   "metadata": {},
   "outputs": [],
   "source": [
    "import numpy as np\n",
    "import gurobipy as grb\n",
    "from gurobipy import GRB\n",
    "import random\n",
    "import time"
   ]
  },
  {
   "cell_type": "code",
   "execution_count": 1,
   "id": "d52ff100",
   "metadata": {},
   "outputs": [
    {
     "name": "stdout",
     "output_type": "stream",
     "text": [
      "3.9.13\n"
     ]
    }
   ],
   "source": [
    "# python version\n",
    "from platform import python_version\n",
    "print(python_version())"
   ]
  },
  {
   "cell_type": "code",
   "execution_count": 1,
   "id": "fd9cdc5b",
   "metadata": {},
   "outputs": [
    {
     "data": {
      "text/plain": [
       "8"
      ]
     },
     "execution_count": 1,
     "metadata": {},
     "output_type": "execute_result"
    }
   ],
   "source": [
    "# number of cores\n",
    "import multiprocessing\n",
    "multiprocessing.cpu_count()"
   ]
  },
  {
   "cell_type": "code",
   "execution_count": 2,
   "id": "b857db9a",
   "metadata": {},
   "outputs": [
    {
     "name": "stdout",
     "output_type": "stream",
     "text": [
      "Set parameter Username\n",
      "Academic license - for non-commercial use only - expires 2024-02-18\n",
      "Gurobi Optimizer version 10.0.1 build v10.0.1rc0 (mac64[x86])\n",
      "\n",
      "CPU model: Intel(R) Core(TM) i5-8257U CPU @ 1.40GHz\n",
      "Thread count: 4 physical cores, 8 logical processors, using up to 8 threads\n",
      "\n",
      "Optimize a model with 0 rows, 0 columns and 0 nonzeros\n",
      "Model fingerprint: 0xf9715da1\n",
      "Coefficient statistics:\n",
      "  Matrix range     [0e+00, 0e+00]\n",
      "  Objective range  [0e+00, 0e+00]\n",
      "  Bounds range     [0e+00, 0e+00]\n",
      "  RHS range        [0e+00, 0e+00]\n",
      "Presolve time: 0.02s\n",
      "Presolve: All rows and columns removed\n",
      "Iteration    Objective       Primal Inf.    Dual Inf.      Time\n",
      "       0    0.0000000e+00   0.000000e+00   0.000000e+00      0s\n",
      "\n",
      "Solved in 0 iterations and 0.03 seconds (0.00 work units)\n",
      "Optimal objective  0.000000000e+00\n"
     ]
    }
   ],
   "source": [
    "import gurobipy as gp\n",
    "m = gp.Model()\n",
    "m.optimize()"
   ]
  },
  {
   "cell_type": "markdown",
   "id": "84fcce53",
   "metadata": {},
   "source": [
    "## Simulated data"
   ]
  },
  {
   "cell_type": "code",
   "execution_count": 2,
   "id": "154d30b6",
   "metadata": {},
   "outputs": [],
   "source": [
    "# obs: observed period: t = 1, 2, ... , obs\n",
    "# first half data is generated based on Beta_1, while the others are based on Beta_2\n",
    "obs = 1000"
   ]
  },
  {
   "cell_type": "code",
   "execution_count": 3,
   "id": "7260eca9",
   "metadata": {},
   "outputs": [],
   "source": [
    "np.random.seed(123)\n",
    "mean = np.zeros(5)\n",
    "cov = np.diag(np.ones(5))\n",
    "X_const = np.ones(int(obs/2)).reshape((int(obs/2), 1))\n",
    "X_1 = np.random.multivariate_normal(mean, cov, int(obs/2))\n",
    "X_2 = np.random.multivariate_normal(mean, cov, int(obs/2))\n",
    "\n",
    "X_1 = np.concatenate((X_const, X_1), axis = 1)\n",
    "X_2 = np.concatenate((X_const, X_2), axis = 1)\n",
    "\n",
    "Beta_1 = np.ones(6).reshape((6, 1))\n",
    "Beta_2 = np.array([1, -1, 0, -1, 0, 1]).reshape((6, 1))\n",
    "\n",
    "epsilon_1 = np.random.normal(loc=0, scale=1, size=int(obs/2)).reshape((int(obs/2), 1))\n",
    "epsilon_2 = np.random.normal(loc=0, scale=1, size=int(obs/2)).reshape((int(obs/2), 1))\n",
    "\n",
    "Y_1 = X_1@Beta_1 + epsilon_1\n",
    "Y_2 = X_2@Beta_2 + epsilon_2\n",
    "\n",
    "Y = np.concatenate((Y_1, Y_2), axis = 0)\n",
    "X = np.concatenate((X_1, X_2), axis = 0)\n",
    "epsilon =  np.concatenate((epsilon_1, epsilon_2), axis = 0)"
   ]
  },
  {
   "cell_type": "code",
   "execution_count": 4,
   "id": "fee17b58",
   "metadata": {},
   "outputs": [
    {
     "name": "stdout",
     "output_type": "stream",
     "text": [
      "Shape of Y: (1000, 1) \n",
      "Shape of X: (1000, 6) \n"
     ]
    }
   ],
   "source": [
    "print('Shape of Y: {} '.format(Y.shape))\n",
    "print('Shape of X: {} '.format(X.shape))"
   ]
  },
  {
   "cell_type": "code",
   "execution_count": 5,
   "id": "73f46709",
   "metadata": {},
   "outputs": [
    {
     "data": {
      "text/plain": [
       "array([[ 1],\n",
       "       [-1],\n",
       "       [ 0],\n",
       "       [-1],\n",
       "       [ 0],\n",
       "       [ 1]])"
      ]
     },
     "execution_count": 5,
     "metadata": {},
     "output_type": "execute_result"
    }
   ],
   "source": [
    "Beta_2"
   ]
  },
  {
   "cell_type": "code",
   "execution_count": null,
   "id": "042f4920",
   "metadata": {},
   "outputs": [],
   "source": []
  },
  {
   "cell_type": "markdown",
   "id": "edba01de",
   "metadata": {},
   "source": [
    "## Preparation for implementation"
   ]
  },
  {
   "cell_type": "code",
   "execution_count": 6,
   "id": "0da3ad7d",
   "metadata": {
    "scrolled": false
   },
   "outputs": [
    {
     "data": {
      "text/plain": [
       "array([[ 1.,  1.,  1.,  1.,  1.,  1.],\n",
       "       [ 1.,  1.,  1.,  1.,  1.,  1.],\n",
       "       [ 1.,  1.,  1.,  1.,  1.,  1.],\n",
       "       ...,\n",
       "       [ 1., -1.,  0., -1.,  0.,  1.],\n",
       "       [ 1., -1.,  0., -1.,  0.,  1.],\n",
       "       [ 1., -1.,  0., -1.,  0.,  1.]])"
      ]
     },
     "execution_count": 6,
     "metadata": {},
     "output_type": "execute_result"
    }
   ],
   "source": [
    "# Create true matrix for Beta\n",
    "Beta_1_con = Beta_1\n",
    "Beta_2_con = Beta_2\n",
    "\n",
    "for i in range(int(obs/2)-1):\n",
    "    Beta_1_con = np.concatenate((Beta_1_con, Beta_1), axis = 1)\n",
    "    Beta_2_con = np.concatenate((Beta_2_con, Beta_2), axis = 1)\n",
    "\n",
    "True_Beta = np.concatenate((Beta_1_con, Beta_2_con), axis = 1).T\n",
    "True_Beta"
   ]
  },
  {
   "cell_type": "code",
   "execution_count": 7,
   "id": "340928af",
   "metadata": {},
   "outputs": [
    {
     "data": {
      "text/plain": [
       "955.1259334149754"
      ]
     },
     "execution_count": 7,
     "metadata": {},
     "output_type": "execute_result"
    }
   ],
   "source": [
    "# True sum of squared residuals\n",
    "resid = Y - np.sum(np.multiply(X, True_Beta), axis = 1).reshape((obs, 1))\n",
    "ssr = np.sum(np.square(resid))\n",
    "ssr"
   ]
  },
  {
   "cell_type": "markdown",
   "id": "45a33826",
   "metadata": {},
   "source": [
    "## Implementation"
   ]
  },
  {
   "cell_type": "code",
   "execution_count": null,
   "id": "6794fa05",
   "metadata": {
    "scrolled": false
   },
   "outputs": [
    {
     "name": "stdout",
     "output_type": "stream",
     "text": [
      "Set parameter Username\n",
      "Academic license - for non-commercial use only - expires 2024-02-18\n",
      "Gurobi Optimizer version 10.0.1 build v10.0.1rc0 (mac64[x86])\n",
      "\n",
      "CPU model: Intel(R) Core(TM) i5-8257U CPU @ 1.40GHz\n",
      "Thread count: 4 physical cores, 8 logical processors, using up to 8 threads\n",
      "\n",
      "Optimize a model with 11989 rows, 6999 columns and 36963 nonzeros\n",
      "Model fingerprint: 0x39a35ba2\n",
      "Model has 21000 quadratic objective terms\n",
      "Variable types: 6000 continuous, 999 integer (999 binary)\n",
      "Coefficient statistics:\n",
      "  Matrix range     [1e+00, 1e+02]\n",
      "  Objective range  [2e-04, 4e+01]\n",
      "  QObjective range [1e-08, 3e+01]\n",
      "  Bounds range     [1e+00, 1e+00]\n",
      "  RHS range        [1e+00, 1e+00]\n",
      "Found heuristic solution: objective 5846.0933203\n",
      "Presolve time: 0.42s\n",
      "Presolved: 11989 rows, 6999 columns, 36963 nonzeros\n",
      "Presolved model has 21000 quadratic objective terms\n",
      "Variable types: 6000 continuous, 999 integer (999 binary)\n",
      "\n",
      "Root simplex log...\n",
      "\n",
      "Iteration    Objective       Primal Inf.    Dual Inf.      Time\n",
      "    7310    2.6317498e+03   0.000000e+00   5.585929e+03      5s\n",
      "   11560    1.8858717e+03   0.000000e+00   3.851563e+03     10s\n",
      "   14790    1.4862530e+03   0.000000e+00   3.132489e+03     15s\n",
      "   17510    1.1894170e+03   0.000000e+00   2.443164e+03     20s\n",
      "   19890    1.0029652e+03   0.000000e+00   2.048336e+03     25s\n",
      "   21420    8.7268524e+02   0.000000e+00   1.768398e+03     30s\n",
      "   22780    7.6994690e+02   0.000000e+00   1.511880e+03     35s\n",
      "   24140    6.8634401e+02   0.000000e+00   1.340487e+03     40s\n",
      "   25500    6.0851289e+02   0.000000e+00   1.164494e+03     46s\n",
      "   26690    5.5483863e+02   0.000000e+00   1.068550e+03     51s\n",
      "   27710    5.0686315e+02   0.000000e+00   9.566070e+02     55s\n",
      "   28900    4.5466548e+02   0.000000e+00   8.643866e+02     61s\n",
      "   29920    4.0817829e+02   0.000000e+00   7.395710e+02     65s\n",
      "   31110    3.6543769e+02   0.000000e+00   6.634053e+02     70s\n",
      "   32300    3.2253451e+02   0.000000e+00   6.245519e+02     75s\n",
      "   33320    2.8822420e+02   0.000000e+00   5.041849e+02     80s\n",
      "   34340    2.5869606e+02   0.000000e+00   4.050007e+02     85s\n",
      "   35360    2.2757018e+02   0.000000e+00   3.410837e+02     91s\n",
      "   36210    2.0713095e+02   0.000000e+00   3.111685e+02     95s\n",
      "   37230    1.7846104e+02   0.000000e+00   2.612249e+02    101s\n",
      "   38250    1.5978680e+02   0.000000e+00   2.049256e+02    105s\n",
      "   39785    1.2723692e+02   0.000000e+00   1.834993e+02    110s\n",
      "   41336    1.0910682e+02   0.000000e+00   1.149539e+02    115s\n",
      "   42912    9.1740263e+01   0.000000e+00   8.070771e+01    120s\n",
      "   44921    7.9143041e+01   0.000000e+00   3.501493e+01    125s\n",
      "   46180    7.5716898e+01   0.000000e+00   5.387364e+00    130s\n",
      "   46821    7.5218176e+01   0.000000e+00   0.000000e+00    134s\n",
      "\n",
      "Root relaxation: objective 7.521818e+01, 46821 iterations, 133.64 seconds (39.32 work units)\n",
      "\n",
      "    Nodes    |    Current Node    |     Objective Bounds      |     Work\n",
      " Expl Unexpl |  Obj  Depth IntInf | Incumbent    BestBd   Gap | It/Node Time\n",
      "\n",
      "     0     0   75.21818    0  534 5846.09332   75.21818  98.7%     -  136s\n",
      "     0     0   76.73482    0  534 5846.09332   76.73482  98.7%     -  201s\n",
      "     0     2   76.73482    0  534 5846.09332   76.73482  98.7%     -  210s\n",
      "     1     2   76.73482    1  539 5846.09332   76.73482  98.7%  67.0  341s\n",
      "*    2     2               1    2319.1680869   76.73482  96.7%  9762  341s\n",
      "     3     2   76.73482    2  536 2319.16809   76.73482  96.7%  6557  448s\n",
      "     5     2   77.58968    3  535 2319.16809   77.58968  96.7%  7754  496s\n",
      "*    6     2               3    2303.5747834   77.62119  96.6%  9684  496s\n",
      "     7     2   79.16833    4  535 2303.57478   79.16833  96.6%  8328  549s\n",
      "     9     2   81.15306    5  541 2303.57478   81.15306  96.5%  8306  634s\n",
      "*   10     2               5    1966.7477473   81.16310  95.9%  9252  634s\n",
      "    11     2   82.28964    6  544 1966.74775   82.28964  95.8%  8428  719s\n",
      "    13     2   83.52917    7  547 1966.74775   83.52917  95.8%  8214  835s\n",
      "    15     2   84.22236    8  545 1966.74775   84.22236  95.7%  8106  974s\n",
      "    17     2   85.20584    9  540 1966.74775   85.20584  95.7%  8335 1070s\n",
      "H   19     2                    1288.6212852   87.72577  93.2%  8457 1142s\n",
      "    21     3   89.66454   11  547 1288.62129   89.66454  93.0%  8337 1190s\n",
      "    24     1     cutoff   12      1288.62129   90.16807  93.0%  8372 1281s\n",
      "*   27     1              13    1236.1999820   90.64204  92.7%  8363 1281s\n",
      "    28     3   91.82784   14  550 1236.19998   91.82784  92.6%  8070 1293s\n",
      "    30     3   92.72022   16  550 1236.19998   92.72022  92.5%  7541 1379s\n",
      "    34     3     cutoff   17      1236.19998   94.14255  92.4%  7407 1465s\n",
      "    38     3   95.72215   20  553 1236.19998   95.72215  92.3%  6873 1509s\n",
      "    42     4     cutoff   21      1236.19998   96.50877  92.2%  6842 1545s\n",
      "    47     4   98.98515   25  545 1236.19998   98.52992  92.0%  6311 1575s\n",
      "    53     2     cutoff   26      1236.19998  100.16300  91.9%  6241 1639s\n",
      "    59     4  101.99820   30  543 1236.19998  101.99820  91.7%  6222 1700s\n",
      "    63     2     cutoff   31      1236.19998  105.00029  91.5%  6103 2047s\n",
      "    67     5     cutoff   34      1236.19998  105.38244  91.5%  6123 2074s\n",
      "    72     6  113.48673   38  540 1236.19998  107.35535  91.3%  5710 2121s\n",
      "    79     7     cutoff   41      1236.19998  119.05927  90.4%  5728 2149s\n",
      "    86     5     cutoff   40      1236.19998  120.78055  90.2%  5576 2232s\n",
      "    92     3     cutoff   39      1236.19998  120.78055  90.2%  5711 2284s\n"
     ]
    }
   ],
   "source": [
    "tik = time.time()\n",
    "# create a model instance called Diet\n",
    "M = grb.Model('MIOP')\n",
    "\n",
    "time = 1000\n",
    "number_of_covariates = X.shape[1]\n",
    "\n",
    "# set decision variables\n",
    "beta = M.addMVar((time, 6), lb = -GRB.INFINITY) # change default setting lb = 0\n",
    "Z = M.addMVar(time-1, vtype=GRB.BINARY)\n",
    "\n",
    "# set objective function\n",
    "Lambda  = 20\n",
    "M.setObjective(grb.quicksum((Y[t]-X[t, :]@beta[t,:].T)*(Y[t]-X[t, :]@beta[t, :].T) for t in range(time)) + Lambda*grb.quicksum(Z))\n",
    "\n",
    "# add constraints\n",
    "# for i in range(time-1):\n",
    " #   M.addConstrs((Z[i] == 0) >> (beta[i, j] == beta[i+1, j]) for j in range(number_of_covariates)) # Big M or No big M.\n",
    "    \n",
    "# Big M\n",
    "M_num = 100\n",
    "for t in range(time-1):\n",
    "    M.addConstrs( beta[t+1, p] - beta[t, p] <= M_num*Z[t] for p in range(number_of_covariates))\n",
    "    M.addConstrs( beta[t+1, p] - beta[t, p] >= -1*M_num*Z[t] for p in range(number_of_covariates))\n",
    "#M.addConstr(Z.sum() == 1)   \n",
    "\n",
    "M.Params.TimeLimit = 400\n",
    "#optional constratins to add more cuts\n",
    "M.addConstr(sum(z) <= 5)\n",
    "\n",
    "M.optimize()\n",
    "\n",
    "tok = time.time()\n",
    "print('------------------------------------')\n",
    "# value of objective function\n",
    "print('objective function is minimised at: {:.2f}'.format(M.objVal))\n",
    "print('Time: {:.2f}'.format(tik-tok))"
   ]
  },
  {
   "cell_type": "code",
   "execution_count": null,
   "id": "efe7d118",
   "metadata": {
    "scrolled": true
   },
   "outputs": [],
   "source": [
    "Z.X"
   ]
  },
  {
   "cell_type": "code",
   "execution_count": null,
   "id": "0b8d14d9",
   "metadata": {
    "scrolled": true
   },
   "outputs": [],
   "source": [
    "np.where(Z.X == 1)"
   ]
  },
  {
   "cell_type": "code",
   "execution_count": null,
   "id": "b3076f9e",
   "metadata": {},
   "outputs": [],
   "source": []
  },
  {
   "cell_type": "code",
   "execution_count": null,
   "id": "8c008d44",
   "metadata": {},
   "outputs": [],
   "source": [
    "## Not using Big M version.\n",
    "\n",
    "tik = time.time()\n",
    "# create a model instance called Diet\n",
    "M = grb.Model('MIOP')\n",
    "\n",
    "time = 1000\n",
    "number_of_covariates = X.shape[1]\n",
    "\n",
    "# set decision variables\n",
    "beta = M.addMVar((time, 6), lb = -GRB.INFINITY) # change default setting lb = 0\n",
    "Z = M.addMVar(time-1, vtype=GRB.BINARY)\n",
    "\n",
    "# set objective function\n",
    "Lambda  = 20\n",
    "M.setObjective(grb.quicksum((Y[t]-X[t, :]@beta[t,:].T)*(Y[t]-X[t, :]@beta[t, :].T) for t in range(time)) + Lambda*grb.quicksum(Z))\n",
    "\n",
    "# add constraints\n",
    "for i in range(time-1):\n",
    "    M.addConstrs((Z[i] == 0) >> (beta[i, j] == beta[i+1, j]) for j in range(number_of_covariates)) # Big M or No big M.\n",
    "    \n",
    "# Big M\n",
    "#M_num = 100\n",
    "#for t in range(time-1):\n",
    "#   M.addConstrs( beta[t+1, p] - beta[t, p] <= M_num*Z[t] for p in range(number_of_covariates))\n",
    "#    M.addConstrs( beta[t+1, p] - beta[t, p] >= -1*M_num*Z[t] for p in range(number_of_covariates))\n",
    "    \n",
    "M.Params.TimeLimit = 400\n",
    "#optional constratins to add more cuts\n",
    "M.addConstr(sum(z) <= 5)\n",
    "   \n",
    "M.optimize()\n",
    "\n",
    "tok = time.time()\n",
    "print('------------------------------------')\n",
    "# value of objective function\n",
    "print('objective function is minimised at: {:.2f}'.format(M.objVal))\n",
    "print('Time: {:.2f}'.format(tik-tok))"
   ]
  },
  {
   "cell_type": "code",
   "execution_count": null,
   "id": "b1cbcff3",
   "metadata": {},
   "outputs": [],
   "source": [
    "np.where(Z.X == 1)"
   ]
  },
  {
   "cell_type": "code",
   "execution_count": null,
   "id": "f96a7cfe",
   "metadata": {},
   "outputs": [],
   "source": []
  },
  {
   "cell_type": "code",
   "execution_count": null,
   "id": "6420d06c",
   "metadata": {},
   "outputs": [],
   "source": []
  },
  {
   "cell_type": "code",
   "execution_count": null,
   "id": "3e469b01",
   "metadata": {},
   "outputs": [],
   "source": []
  },
  {
   "cell_type": "code",
   "execution_count": null,
   "id": "8b4ecd13",
   "metadata": {},
   "outputs": [],
   "source": []
  },
  {
   "cell_type": "code",
   "execution_count": null,
   "id": "dc2baa46",
   "metadata": {},
   "outputs": [],
   "source": []
  },
  {
   "cell_type": "code",
   "execution_count": null,
   "id": "dd5d68cc",
   "metadata": {},
   "outputs": [],
   "source": []
  },
  {
   "cell_type": "code",
   "execution_count": null,
   "id": "51abd5b5",
   "metadata": {},
   "outputs": [],
   "source": [
    "test = np.array([1, 0, 1])\n",
    "test2 = np.array([1, 0, 1])\n",
    "np.allclose(test, test2)"
   ]
  },
  {
   "cell_type": "code",
   "execution_count": null,
   "id": "639380e3",
   "metadata": {},
   "outputs": [],
   "source": [
    "Z_list[1]"
   ]
  },
  {
   "cell_type": "code",
   "execution_count": null,
   "id": "994e2cbf",
   "metadata": {},
   "outputs": [],
   "source": [
    "len(Z)"
   ]
  },
  {
   "cell_type": "code",
   "execution_count": null,
   "id": "b7de933e",
   "metadata": {},
   "outputs": [],
   "source": []
  },
  {
   "cell_type": "code",
   "execution_count": null,
   "id": "de0d14b2",
   "metadata": {},
   "outputs": [],
   "source": [
    "# compute the residual for each time\n",
    "for i in 1:obs:\n",
    "    resid_calc = Y[1] - "
   ]
  },
  {
   "cell_type": "code",
   "execution_count": null,
   "id": "46b86520",
   "metadata": {},
   "outputs": [],
   "source": [
    "Y[1]\n"
   ]
  },
  {
   "cell_type": "code",
   "execution_count": null,
   "id": "db3d5b46",
   "metadata": {},
   "outputs": [],
   "source": []
  },
  {
   "cell_type": "code",
   "execution_count": null,
   "id": "882750e1",
   "metadata": {},
   "outputs": [],
   "source": [
    "# compute residulas using matrix\n",
    "resid = Y - np.sum(np.multiply(X, True_Beta), axis = 1).reshape((obs, 1))\n",
    "resid"
   ]
  },
  {
   "cell_type": "code",
   "execution_count": null,
   "id": "f72125b4",
   "metadata": {},
   "outputs": [],
   "source": [
    "epsilon"
   ]
  },
  {
   "cell_type": "code",
   "execution_count": null,
   "id": "132f1042",
   "metadata": {},
   "outputs": [],
   "source": [
    "# residual is equivalent to epsilon\n",
    "# Squared sum of squares should be:\n",
    "resid = Y - np.sum(np.multiply(X, True_Beta), axis = 1).reshape((obs, 1))\n",
    "SSR = np.sum(np.square(resid))\n",
    "SSR"
   ]
  },
  {
   "cell_type": "code",
   "execution_count": null,
   "id": "72adb4ba",
   "metadata": {},
   "outputs": [],
   "source": [
    "# we can use l1 norm ?\n",
    "np.linalg.norm(np.square(resid), ord=1)"
   ]
  },
  {
   "cell_type": "markdown",
   "id": "b4db1d31",
   "metadata": {},
   "source": [
    "## Implementation"
   ]
  },
  {
   "cell_type": "code",
   "execution_count": null,
   "id": "93290904",
   "metadata": {},
   "outputs": [],
   "source": [
    "# create a model instance called Diet\n",
    "M = grb.Model('MIOP')\n",
    "\n",
    "# set decision variables\n",
    "beta = M.addMVar((20, 5), lb = -100) # change default setting lb = 0\n",
    "Z = M.addMVar((20, 5), vtype=GRB.BINARY)\n",
    "\n",
    "# set objective function\n",
    "Xbeta = np.sum(np.multiply(X, beta), axis = 1).reshape((20, 1))\n",
    "M.setObjective(np.linalg.norm(np.square(Y - Xbeta), ord=1))"
   ]
  },
  {
   "cell_type": "code",
   "execution_count": null,
   "id": "f2f04b77",
   "metadata": {},
   "outputs": [],
   "source": [
    "range(6)"
   ]
  },
  {
   "cell_type": "code",
   "execution_count": null,
   "id": "bbda4b01",
   "metadata": {},
   "outputs": [],
   "source": []
  },
  {
   "cell_type": "code",
   "execution_count": null,
   "id": "7968398a",
   "metadata": {},
   "outputs": [],
   "source": [
    "# create a model instance called Diet\n",
    "M = grb.Model('MIOP')\n",
    "\n",
    "# set decision variables\n",
    "x = M.addMVar(6)\n",
    "\n",
    "# c^T\n",
    "c = np.array([2,3.5,8,1.5,11,1])\n",
    "\n",
    "# A\n",
    "A = np.array([\n",
    "    [-4,-8,-7,-1.3,-8,-9.2],\n",
    "    [1,5,9,0.1,7,1],\n",
    "    [15,11.7,0.4,22.6,0,17],\n",
    "    [90,120,106,97,130,180],\n",
    "    [0,0,0,0,1,0],\n",
    "    [0,-1,0,0,0,0]\n",
    "])\n",
    "\n",
    "# b\n",
    "b = np.array([-10,8,10,300,0.5,-1])\n",
    "\n",
    "# inner products of C^T and x\n",
    "M.setObjective(c@x)\n",
    "\n",
    "# Ax >= b\n",
    "M.addConstr(A@x >= b)\n",
    "\n",
    "M.optimize()\n",
    "print('------------------------------------')\n",
    "# value of objective function\n",
    "print('Cost is minimised at: {:.2f}'.format(M.objVal))\n",
    "\n",
    "food = ['bread', 'milk', 'cheese','potato','fish','yogurt'] \n",
    "\n",
    "# where item comes from?\n",
    "for tomo in range(len(food)):\n",
    "    print(tomo)\n",
    "    print('{:.2f} units of {} is included in the diet.'.format(x.x[tomo],food[tomo]))"
   ]
  },
  {
   "cell_type": "code",
   "execution_count": null,
   "id": "14089281",
   "metadata": {},
   "outputs": [],
   "source": []
  },
  {
   "cell_type": "code",
   "execution_count": null,
   "id": "6fb5db07",
   "metadata": {},
   "outputs": [],
   "source": []
  },
  {
   "cell_type": "code",
   "execution_count": null,
   "id": "70bb2799",
   "metadata": {},
   "outputs": [],
   "source": []
  },
  {
   "cell_type": "code",
   "execution_count": null,
   "id": "5402e5b5",
   "metadata": {},
   "outputs": [],
   "source": []
  }
 ],
 "metadata": {
  "kernelspec": {
   "display_name": "Python 3 (ipykernel)",
   "language": "python",
   "name": "python3"
  },
  "language_info": {
   "codemirror_mode": {
    "name": "ipython",
    "version": 3
   },
   "file_extension": ".py",
   "mimetype": "text/x-python",
   "name": "python",
   "nbconvert_exporter": "python",
   "pygments_lexer": "ipython3",
   "version": "3.9.13"
  },
  "toc": {
   "base_numbering": 1,
   "nav_menu": {},
   "number_sections": false,
   "sideBar": true,
   "skip_h1_title": false,
   "title_cell": "Table of Contents",
   "title_sidebar": "Contents",
   "toc_cell": false,
   "toc_position": {},
   "toc_section_display": true,
   "toc_window_display": false
  }
 },
 "nbformat": 4,
 "nbformat_minor": 5
}
