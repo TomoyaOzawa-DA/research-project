{
 "cells": [
  {
   "cell_type": "markdown",
   "id": "be07c70a",
   "metadata": {},
   "source": [
    "## Function for Bai and Perron method\n",
    "\n",
    "Readme:\n",
    "- we use **ruptures** library to detect change points by Bai and Perron method.\n",
    "    - [Install ](https://centre-borelli.github.io/ruptures-docs/install/) and [Tutorial](https://centre-borelli.github.io/ruptures-docs/user-guide/costs/costlinear/)\n",
    "- However, ruptures only provides the location of change points and residuals sum of squared given the number of change points\n",
    "- Hence, we make some codes for caluclating BIC to choose the best number of change points."
   ]
  },
  {
   "cell_type": "code",
   "execution_count": 1,
   "id": "cd42cd8f",
   "metadata": {},
   "outputs": [],
   "source": [
    "import pandas as pd\n",
    "import numpy as np\n",
    "import matplotlib.pylab as plt\n",
    "import ruptures as rpt\n",
    "import statsmodels.api as sm\n",
    "\n",
    "def function_bai_perron(Y, X, max_cp, min_seg_size = 30):\n",
    "    # Input:\n",
    "    # Y: a vector for the objective variable\n",
    "    # X: (# of samples * # of predictors) matrix for predictors. if you consider a regression model with constant, you should include it in X matrix.\n",
    "    # max_cp: the maximal number of change points that this function will seach\n",
    "    # min_seg_size: the minimal number of obsevations in each segment.\n",
    "    \n",
    "    # output:\n",
    "    # optimal_number: the optimal number of change points. It minimise the BIC\n",
    "    # optimal_location: the optimal lcoations for the optimal number of change points\n",
    "    # RESULT: the obtained solution for the location of change points for each number of change points\n",
    "    # RSS: the computed residual sum of squared for each number of change points\n",
    "    # BIC: the computed value of BIC for each number of change points\n",
    "    # range_of_change_points: the range of change points that this function has searched.\n",
    "    \n",
    "    # matrix [Y, X]\n",
    "    matrix = np.c_[Y, X]\n",
    "    \n",
    "    # list for results\n",
    "    RSS = []\n",
    "    BIC = []\n",
    "    LOCATION = []\n",
    "    \n",
    "    # Given the number of change points, the locations of change points are estimated.\n",
    "    for i in range(max_cp + 1):\n",
    "        # fitting \n",
    "        algo = rpt.Dynp(model=\"linear\", min_size = min_seg_size, jump = 1).fit(matrix)\n",
    "        \n",
    "        # locations of change points given the number of change points:\n",
    "        result = algo.predict(i)\n",
    "        \n",
    "        # Residuals Sum of Squared\n",
    "        cost = rpt.costs.CostLinear().fit(matrix)\n",
    "        rss = cost.sum_of_costs(result)\n",
    "        \n",
    "        # compute BIC\n",
    "        n_obs = len(Y)\n",
    "        \n",
    "        # calculate degree of freedom to compute BIC\n",
    "        n_coeff = X.shape[1] # the number of coefficients\n",
    "        n_seg = len(result) # the number of segments that is equivalent to 1 + the number of change points\n",
    "        degree_of_freedom = n_coeff*n_seg + 1 + n_seg -1# n_coeff*n_seg + 1 is degree of freedom for the regression model, n_seg -1 is the number of change points that can be also degree of freedom\n",
    "        \n",
    "        # calculate the log-likelihood\n",
    "        # When we have change points, we formulate the regression model by indicator function.\n",
    "        # Hence we can estimate single regression model even though we have multiple change points\n",
    "        if n_seg == 1:\n",
    "            log_likelihood = sm.OLS(matrix[0:result[0], 0], matrix[0:result[0], 1:]).fit().llf\n",
    "        else:\n",
    "            matrix_for_hadamard_product = np.zeros((n_obs, n_coeff))\n",
    "            matrix_for_hadamard_product[0:result[0],:] = 1\n",
    "            matrix_X = np.multiply(X, matrix_for_hadamard_product)\n",
    "            for j in range(n_seg-1):\n",
    "                matrix_for_hadamard_product = np.zeros((n_obs, n_coeff))\n",
    "                matrix_for_hadamard_product[result[j]:result[j+1],:] = 1\n",
    "                temp = np.multiply(X, matrix_for_hadamard_product)\n",
    "                matrix_X = np.c_[matrix_X, temp]\n",
    "            \n",
    "            log_likelihood = sm.OLS(matrix[:, 0], matrix_X).fit().llf\n",
    "                              \n",
    "        print(f'The number of change points: {i}')\n",
    "        print(f'log likelihood: {log_likelihood}')\n",
    "        print(f'degree of freedom: {degree_of_freedom}')\n",
    "        \n",
    "        # BIC = degree of freedom*log(# of samples) - 2 * log lilkelihood\n",
    "        bic = degree_of_freedom*np.log(n_obs)- 2*(log_likelihood)\n",
    "        \n",
    "        print(f'BIC: {bic}')\n",
    "        print(f'RSS: {rss}')\n",
    "        \n",
    "        print(\"----------------------\")\n",
    "        \n",
    "        #bic = n_obs*np.log(rss/n_obs) + degree_of_freedom*np.log(n_obs)\n",
    "\n",
    "        # save the result\n",
    "        LOCATION.append(result)\n",
    "        RSS.append(rss)\n",
    "        BIC.append(bic)\n",
    "    \n",
    "    # best change point\n",
    "    optimal_number = BIC.index(min(BIC))\n",
    "    optimal_location = LOCATION[optimal_number]\n",
    "    range_of_change_points = list(range(max_cp + 1))\n",
    "    \n",
    "    print(\"--------------------------\")\n",
    "    print(\"--------------------------\")\n",
    "    print(f'the optimal number of chnage points: {optimal_number}')\n",
    "    print(f'their locations:  {optimal_location}')\n",
    "\n",
    "    return(optimal_number, optimal_location, LOCATION, RSS, BIC, range_of_change_points)"
   ]
  },
  {
   "cell_type": "code",
   "execution_count": null,
   "id": "ea5b5a84",
   "metadata": {},
   "outputs": [],
   "source": []
  },
  {
   "cell_type": "code",
   "execution_count": null,
   "id": "c43789b6",
   "metadata": {},
   "outputs": [],
   "source": []
  },
  {
   "cell_type": "code",
   "execution_count": null,
   "id": "b4a88917",
   "metadata": {},
   "outputs": [],
   "source": []
  },
  {
   "cell_type": "markdown",
   "id": "54ce3602",
   "metadata": {},
   "source": [
    "### check how the fucntion works using the same data as R\n",
    "\n",
    "- the obtained locations and residuals sum of squares given the number of change points are consistent.\n",
    "- However, the calculated BIC is close to the one in R, but they are slightly different. R mannual and the papers does not mention the exact way to compute BIC."
   ]
  },
  {
   "cell_type": "code",
   "execution_count": 2,
   "id": "a5f0eb90",
   "metadata": {},
   "outputs": [
    {
     "name": "stdout",
     "output_type": "stream",
     "text": [
      "The number of change points: 0\n",
      "log likelihood: -404.9138288072506\n",
      "degree of freedom: 7\n",
      "BIC: 846.9158791803375\n",
      "RSS: 671.5433616644332\n",
      "----------------------\n",
      "The number of change points: 1\n",
      "log likelihood: -280.9143482680014\n",
      "degree of freedom: 14\n",
      "BIC: 636.0051396676753\n",
      "RSS: 194.33506001916288\n",
      "----------------------\n",
      "The number of change points: 2\n",
      "log likelihood: -275.1692955614669\n",
      "degree of freedom: 21\n",
      "BIC: 661.6032558204427\n",
      "RSS: 183.48506155356878\n",
      "----------------------\n",
      "The number of change points: 3\n",
      "log likelihood: -271.57364902519515\n",
      "degree of freedom: 28\n",
      "BIC: 691.5001843137353\n",
      "RSS: 177.00478929836973\n",
      "----------------------\n",
      "The number of change points: 4\n",
      "log likelihood: -268.61920250901585\n",
      "degree of freedom: 35\n",
      "BIC: 722.679512847213\n",
      "RSS: 171.85177383334195\n",
      "----------------------\n",
      "The number of change points: 5\n",
      "log likelihood: -267.386555480383\n",
      "degree of freedom: 42\n",
      "BIC: 757.3024403557835\n",
      "RSS: 169.74645031062053\n",
      "----------------------\n",
      "--------------------------\n",
      "--------------------------\n",
      "the optimal number of chnage points: 1\n",
      "their locations:  [100, 200]\n"
     ]
    }
   ],
   "source": [
    "mat_simulated = pd.read_csv(\"simulation_data_R.csv\").values\n",
    "sol_number, sol_location, location,residuals_sum_of_square, bic, range_cp = function_bai_perron(mat_simulated[:, 0], mat_simulated[:, 1:], 5)"
   ]
  },
  {
   "cell_type": "code",
   "execution_count": 3,
   "id": "ad2f3e3b",
   "metadata": {},
   "outputs": [
    {
     "name": "stdout",
     "output_type": "stream",
     "text": [
      "optimal number of change points:  1\n",
      "optimal locations of change points:  [100, 200]\n"
     ]
    }
   ],
   "source": [
    "print(\"optimal number of change points: \", str(sol_number))\n",
    "print(\"optimal locations of change points: \", str(sol_location))"
   ]
  },
  {
   "cell_type": "code",
   "execution_count": 4,
   "id": "f0f94776",
   "metadata": {},
   "outputs": [
    {
     "data": {
      "text/plain": [
       "[[200],\n",
       " [100, 200],\n",
       " [42, 100, 200],\n",
       " [42, 100, 166, 200],\n",
       " [42, 97, 127, 159, 200],\n",
       " [40, 70, 100, 139, 169, 200]]"
      ]
     },
     "execution_count": 4,
     "metadata": {},
     "output_type": "execute_result"
    }
   ],
   "source": [
    "location"
   ]
  },
  {
   "cell_type": "code",
   "execution_count": 5,
   "id": "8847c9f2",
   "metadata": {},
   "outputs": [
    {
     "data": {
      "text/plain": [
       "[671.5433616644332,\n",
       " 194.33506001916288,\n",
       " 183.48506155356878,\n",
       " 177.00478929836973,\n",
       " 171.85177383334195,\n",
       " 169.74645031062053]"
      ]
     },
     "execution_count": 5,
     "metadata": {},
     "output_type": "execute_result"
    }
   ],
   "source": [
    "residuals_sum_of_square"
   ]
  },
  {
   "cell_type": "code",
   "execution_count": 6,
   "id": "2bf5948b",
   "metadata": {},
   "outputs": [
    {
     "data": {
      "text/plain": [
       "[846.9158791803375,\n",
       " 636.0051396676753,\n",
       " 661.6032558204427,\n",
       " 691.5001843137353,\n",
       " 722.679512847213,\n",
       " 757.3024403557835]"
      ]
     },
     "execution_count": 6,
     "metadata": {},
     "output_type": "execute_result"
    }
   ],
   "source": [
    "bic"
   ]
  },
  {
   "cell_type": "code",
   "execution_count": 7,
   "id": "8ac8af1a",
   "metadata": {},
   "outputs": [
    {
     "data": {
      "image/png": "[encoded data removed]",
      "text/plain": [
       "<Figure size 640x480 with 2 Axes>"
      ]
     },
     "metadata": {},
     "output_type": "display_data"
    }
   ],
   "source": [
    "fig,ax = plt.subplots()\n",
    "\n",
    "# BIC\n",
    "ax.plot(range_cp, bic, color=\"#1f77b4\")\n",
    "ax.set_xlabel(\"the number of change points\")\n",
    "ax.set_ylabel(\"BIC\", color=\"#1f77b4\")\n",
    "# RSS\n",
    "ax2=ax.twinx()\n",
    "ax2.plot(range_cp, residuals_sum_of_square,color=\"#ff7f0e\")\n",
    "ax2.set_ylabel(\"RSS\",color=\"#ff7f0e\")\n",
    "\n",
    "plt.title(\"BIC and Residual Sum of Squares\")\n",
    "plt.show()"
   ]
  },
  {
   "cell_type": "code",
   "execution_count": null,
   "id": "88fcc7f4",
   "metadata": {},
   "outputs": [],
   "source": []
  },
  {
   "cell_type": "code",
   "execution_count": null,
   "id": "8ef07379",
   "metadata": {},
   "outputs": [],
   "source": []
  },
  {
   "cell_type": "code",
   "execution_count": null,
   "id": "9d34bd2b",
   "metadata": {},
   "outputs": [],
   "source": []
  },
  {
   "cell_type": "code",
   "execution_count": null,
   "id": "e100b1e8",
   "metadata": {},
   "outputs": [],
   "source": []
  },
  {
   "cell_type": "code",
   "execution_count": null,
   "id": "14fd1abb",
   "metadata": {},
   "outputs": [],
   "source": []
  },
  {
   "cell_type": "code",
   "execution_count": null,
   "id": "123b9f28",
   "metadata": {},
   "outputs": [],
   "source": []
  },
  {
   "cell_type": "code",
   "execution_count": null,
   "id": "1d475b93",
   "metadata": {},
   "outputs": [],
   "source": []
  }
 ],
 "metadata": {
  "kernelspec": {
   "display_name": "Python 3 (ipykernel)",
   "language": "python",
   "name": "python3"
  },
  "language_info": {
   "codemirror_mode": {
    "name": "ipython",
    "version": 3
   },
   "file_extension": ".py",
   "mimetype": "text/x-python",
   "name": "python",
   "nbconvert_exporter": "python",
   "pygments_lexer": "ipython3",
   "version": "3.9.13"
  },
  "toc": {
   "base_numbering": 1,
   "nav_menu": {},
   "number_sections": false,
   "sideBar": true,
   "skip_h1_title": false,
   "title_cell": "Table of Contents",
   "title_sidebar": "Contents",
   "toc_cell": false,
   "toc_position": {},
   "toc_section_display": true,
   "toc_window_display": false
  }
 },
 "nbformat": 4,
 "nbformat_minor": 5
}
