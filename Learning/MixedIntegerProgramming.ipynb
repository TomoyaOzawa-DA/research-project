{
 "cells": [
  {
   "cell_type": "markdown",
   "metadata": {},
   "source": [
    "# Algorithms for Mixed-integer programming"
   ]
  },
  {
   "cell_type": "code",
   "execution_count": 1,
   "metadata": {},
   "outputs": [
    {
     "name": "stderr",
     "output_type": "stream",
     "text": [
      "<frozen importlib._bootstrap>:219: RuntimeWarning: scipy._lib.messagestream.MessageStream size changed, may indicate binary incompatibility. Expected 56 from C header, got 64 from PyObject\n"
     ]
    }
   ],
   "source": [
    "# library\n",
    "import numpy as np\n",
    "from scipy.optimize import linprog"
   ]
  },
  {
   "cell_type": "markdown",
   "metadata": {},
   "source": [
    "## Branch and Bound\n",
    "\n",
    "Optimisation problem (from [AMP chapter 9](https://web.mit.edu/15.053/www/AMP-Chapter-09.pdf)):\n",
    "\n",
    "$$\n",
    "max\\quad 6x_1+4x_2+4x_3+x_4+2x_5\n",
    "$$\n",
    "\n",
    "subject to:\n",
    "\n",
    "$$\n",
    "2x_1 + 2x_2 +3x_3 + x_4 +2x_5= 7, \\quad\n",
    "x_j \\geq 0 \\quad j = 1, 2, \\cdots ,5 \\quad\n",
    "x_1 \\ \\text{and} \\ x_2 \\text{integer}\n",
    "$$"
   ]
  },
  {
   "cell_type": "markdown",
   "metadata": {},
   "source": [
    "### from scratch"
   ]
  },
  {
   "cell_type": "code",
   "execution_count": 6,
   "metadata": {},
   "outputs": [],
   "source": [
    "# set up\n",
    "\n",
    "# coefficients for objective function\n",
    "c = np.array([-6.0, -4.0, -4.0, -1.0, -2.0]) # mutiple by -1 due to regard maximisation problem as minimisation problem\n",
    "\n",
    "# coefficients for constraints\n",
    "A_eq = np.array(\n",
    "    [[2.0, 2.0, 3.0, 1.0, 2.0]]\n",
    ")\n",
    "\n",
    "# value of constrains\n",
    "b_eq = np.array([7])\n",
    "\n",
    "# integrity constrains\n",
    "int_const = np.array([1.0, 1.0, 0, 0, 0])"
   ]
  },
  {
   "cell_type": "code",
   "execution_count": null,
   "metadata": {},
   "outputs": [],
   "source": []
  },
  {
   "cell_type": "markdown",
   "metadata": {},
   "source": [
    "### function from library"
   ]
  },
  {
   "cell_type": "code",
   "execution_count": 7,
   "metadata": {},
   "outputs": [
    {
     "data": {
      "text/plain": [
       "        message: Optimization terminated successfully. (HiGHS Status 7: Optimal)\n",
       "        success: True\n",
       "         status: 0\n",
       "            fun: -19.333333333333332\n",
       "              x: [ 3.000e+00  0.000e+00  3.333e-01  0.000e+00  0.000e+00]\n",
       "            nit: -1\n",
       "          lower:  residual: [ 3.000e+00  0.000e+00  3.333e-01  0.000e+00\n",
       "                              0.000e+00]\n",
       "                 marginals: [ 0.000e+00  0.000e+00  0.000e+00  0.000e+00\n",
       "                              0.000e+00]\n",
       "          upper:  residual: [       inf        inf        inf        inf\n",
       "                                    inf]\n",
       "                 marginals: [ 0.000e+00  0.000e+00  0.000e+00  0.000e+00\n",
       "                              0.000e+00]\n",
       "          eqlin:  residual: [ 0.000e+00]\n",
       "                 marginals: [ 0.000e+00]\n",
       "        ineqlin:  residual: []\n",
       "                 marginals: []\n",
       " mip_node_count: 1\n",
       " mip_dual_bound: -19.333333333333332\n",
       "        mip_gap: 0.0"
      ]
     },
     "execution_count": 7,
     "metadata": {},
     "output_type": "execute_result"
    }
   ],
   "source": [
    "sol_int = linprog(c, A_eq=A_eq, b_eq=b_eq, integrality=int_const)\n",
    "sol_int"
   ]
  },
  {
   "cell_type": "code",
   "execution_count": null,
   "metadata": {},
   "outputs": [],
   "source": []
  }
 ],
 "metadata": {
  "kernelspec": {
   "display_name": "Python 3",
   "language": "python",
   "name": "python3"
  },
  "language_info": {
   "codemirror_mode": {
    "name": "ipython",
    "version": 3
   },
   "file_extension": ".py",
   "mimetype": "text/x-python",
   "name": "python",
   "nbconvert_exporter": "python",
   "pygments_lexer": "ipython3",
   "version": "3.8.6"
  }
 },
 "nbformat": 4,
 "nbformat_minor": 4
}
