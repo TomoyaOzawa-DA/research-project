{
 "cells": [
  {
   "cell_type": "markdown",
   "metadata": {},
   "source": [
    "# Algorithms for Integer programming"
   ]
  },
  {
   "cell_type": "code",
   "execution_count": 28,
   "metadata": {},
   "outputs": [],
   "source": [
    "# library\n",
    "import numpy as np\n",
    "from scipy.optimize import linprog"
   ]
  },
  {
   "cell_type": "markdown",
   "metadata": {},
   "source": [
    "## Branch and Bound\n",
    "\n",
    "Optimisation problem (from [AMP chapter 9](https://web.mit.edu/15.053/www/AMP-Chapter-09.pdf)):\n",
    "\n",
    "$$\n",
    "max\\quad5x_1 + 8x_2\n",
    "$$\n",
    "\n",
    "subject to:\n",
    "\n",
    "$$\n",
    "x_1+x_2\\leq6, \\quad\n",
    "5x_1 + 9x_2 \\leq 45, \\quad\n",
    "x_1, x_2 \\geq 0 \\ \\text{and integer}\n",
    "$$"
   ]
  },
  {
   "cell_type": "markdown",
   "metadata": {},
   "source": [
    "### from scratch"
   ]
  },
  {
   "cell_type": "code",
   "execution_count": 9,
   "metadata": {},
   "outputs": [],
   "source": [
    "# set up\n",
    "\n",
    "# coefficients for objective function\n",
    "c = np.array([-5.0, -8.0]) # mutiple by -1 due to regard maximisation problem as minimisation problem\n",
    "\n",
    "# coefficients for constraints\n",
    "A_ub = np.array(\n",
    "    [[1.0, 1.0],\n",
    "     [5.0, 9.0]]\n",
    ")\n",
    "\n",
    "# value of constrains\n",
    "b_ub = np.array([6.0, 45.0])"
   ]
  },
  {
   "cell_type": "code",
   "execution_count": 10,
   "metadata": {},
   "outputs": [
    {
     "data": {
      "text/plain": [
       "     con: array([], dtype=float64)\n",
       "     fun: -41.249999974083266\n",
       " message: 'Optimization terminated successfully.'\n",
       "     nit: 4\n",
       "   slack: array([4.92576469e-09, 2.63460436e-08])\n",
       "  status: 0\n",
       " success: True\n",
       "       x: array([2.25, 3.75])"
      ]
     },
     "execution_count": 10,
     "metadata": {},
     "output_type": "execute_result"
    }
   ],
   "source": [
    "# solve optimisation problem as linear programming, ignore integer constraints\n",
    "# solution implies that objective value for integral solution gonna be less than that for obtained solution\n",
    "# in this case less than or equal to 41.\n",
    "sol_relaxed = linprog(c, A_ub=A_ub, b_ub=b_ub)\n",
    "\n",
    "sol_relaxed"
   ]
  },
  {
   "cell_type": "code",
   "execution_count": 18,
   "metadata": {},
   "outputs": [
    {
     "name": "stdout",
     "output_type": "stream",
     "text": [
      "     con: array([], dtype=float64)\n",
      "     fun: -38.999999964447746\n",
      " message: 'Optimization terminated successfully.'\n",
      "     nit: 4\n",
      "   slack: array([4.41358416e-09, 3.00000004e+00, 4.49477700e-09])\n",
      "  status: 0\n",
      " success: True\n",
      "       x: array([3., 3.])\n",
      "---------------\n",
      "     con: array([], dtype=float64)\n",
      "     fun: -41.00000001453141\n",
      " message: 'Optimization terminated successfully.'\n",
      "     nit: 4\n",
      "   slack: array([ 2.00000000e-01, -2.00868584e-08,  5.55545210e-09])\n",
      "  status: 0\n",
      " success: True\n",
      "       x: array([1.79999999, 4.00000001])\n"
     ]
    }
   ],
   "source": [
    "# First split \n",
    "\n",
    "# focus on x2. x2 will be x2 <=3 or x_2 >= 4\n",
    "\n",
    "# Case1: x2 <= 3\n",
    "# coefficients for constraints\n",
    "A_ub_case_1 = np.array(\n",
    "    [[1.0, 1.0],\n",
    "     [5.0, 9.0],\n",
    "     [0.0, 1.0]]\n",
    ")\n",
    "\n",
    "# value of constrains\n",
    "b_ub_case_1= np.array([6.0, 45.0, 3.0])\n",
    "\n",
    "# Case2: x2 >= 4\n",
    "# coefficients for constraints\n",
    "A_ub_case_2 = np.array(\n",
    "    [[1.0, 1.0],\n",
    "     [5.0, 9.0],\n",
    "     [0.0, -1.0]]\n",
    ")\n",
    "\n",
    "# value of constrains\n",
    "b_ub_case_2= np.array([6.0, 45.0, -4.0])\n",
    "\n",
    "# solve for 2 cases\n",
    "sol_case_1 = linprog(c, A_ub=A_ub_case_1, b_ub=b_ub_case_1)\n",
    "sol_case_2 = linprog(c, A_ub=A_ub_case_2, b_ub=b_ub_case_2)\n",
    "\n",
    "print(sol_case_1)\n",
    "print(\"---------------\")\n",
    "print(sol_case_2)"
   ]
  },
  {
   "cell_type": "code",
   "execution_count": 19,
   "metadata": {},
   "outputs": [
    {
     "name": "stdout",
     "output_type": "stream",
     "text": [
      "     con: array([], dtype=float64)\n",
      "     fun: -40.555555555609295\n",
      " message: 'Optimization terminated successfully.'\n",
      "     nit: 4\n",
      "   slack: array([ 5.55555556e-01, -5.42712542e-11,  4.44444444e-01, -9.89341942e-12])\n",
      "  status: 0\n",
      " success: True\n",
      "       x: array([1.        , 4.44444444])\n",
      "---------------\n",
      "     con: array([], dtype=float64)\n",
      "     fun: -42.819810304784575\n",
      " message: 'The algorithm terminated successfully and determined that the problem is infeasible.'\n",
      "     nit: 5\n",
      "   slack: array([-0.13277611, -1.87178689,  0.05197658,  0.08079953])\n",
      "  status: 2\n",
      " success: False\n",
      "       x: array([2.08079953, 4.05197658])\n"
     ]
    }
   ],
   "source": [
    "# Second split \n",
    "\n",
    "# the objective value of case2 is better\n",
    "# since solution for x2 is integer, consider x1<=1 or x1>=2\n",
    "\n",
    "# Case 3: x2 >= 4, x1 <=1\n",
    "# coefficients for constraints\n",
    "A_ub_case_3 = np.array(\n",
    "    [[1.0, 1.0],\n",
    "     [5.0, 9.0],\n",
    "     [0.0, -1.0],\n",
    "     [1.0, 0.0]]\n",
    ")\n",
    "\n",
    "# value of constrains\n",
    "b_ub_case_3= np.array([6.0, 45.0, -4.0, 1.0])\n",
    "\n",
    "# Case 4: x2 >= 4, x1 >= 2\n",
    "# coefficients for constraints\n",
    "A_ub_case_4 = np.array(\n",
    "    [[1.0, 1.0],\n",
    "     [5.0, 9.0],\n",
    "     [0.0, -1.0],\n",
    "     [-1.0, 0.0]]\n",
    ")\n",
    "\n",
    "# value of constrains\n",
    "b_ub_case_4= np.array([6.0, 45.0, -4.0, -2.0])\n",
    "\n",
    "# solve for 2 cases\n",
    "sol_case_3 = linprog(c, A_ub=A_ub_case_3, b_ub=b_ub_case_3)\n",
    "sol_case_4 = linprog(c, A_ub=A_ub_case_4, b_ub=b_ub_case_4)\n",
    "\n",
    "print(sol_case_3)\n",
    "print(\"---------------\")\n",
    "print(sol_case_4)"
   ]
  },
  {
   "cell_type": "code",
   "execution_count": 22,
   "metadata": {},
   "outputs": [
    {
     "name": "stdout",
     "output_type": "stream",
     "text": [
      "     con: array([], dtype=float64)\n",
      "     fun: -40.00000000016935\n",
      " message: 'Optimization terminated successfully.'\n",
      "     nit: 4\n",
      "   slack: array([ 1.00000000e+00, -1.73251635e-10,  3.89999144e-12,  1.00000000e+00])\n",
      "  status: 0\n",
      " success: True\n",
      "       x: array([2.76305668e-11, 5.00000000e+00])\n",
      "---------------\n",
      "     con: array([], dtype=float64)\n",
      "     fun: -36.999999999892864\n",
      " message: 'Optimization terminated successfully.'\n",
      "     nit: 5\n",
      "   slack: array([ 1.00000000e+00,  4.00000000e+00,  1.44728673e-11, -1.72950543e-12])\n",
      "  status: 0\n",
      " success: True\n",
      "       x: array([1., 4.])\n"
     ]
    }
   ],
   "source": [
    "# 3rd split\n",
    "\n",
    "# we found that case 3 is okay but case 4 is infeasible\n",
    "# focus on case 3, x1 <= 1 obj value is 40.5\n",
    "\n",
    "# Case 5: x2 >= 5, x1 <=1\n",
    "# coefficients for constraints\n",
    "A_ub_case_5 = np.array(\n",
    "    [[1.0, 1.0],\n",
    "     [5.0, 9.0],\n",
    "     [0.0, -1.0],\n",
    "     [1.0, 0.0]]\n",
    ")\n",
    "\n",
    "# value of constrains\n",
    "b_ub_case_5= np.array([6.0, 45.0, -5.0, 1.0])\n",
    "\n",
    "# Case 6: x2 <= 4, x1 <=1\n",
    "# coefficients for constraints\n",
    "A_ub_case_6 = np.array(\n",
    "    [[1.0, 1.0],\n",
    "     [5.0, 9.0],\n",
    "     [0.0, 1.0],\n",
    "     [1.0, 0.0]]\n",
    ")\n",
    "\n",
    "# value of constrains\n",
    "b_ub_case_6= np.array([6.0, 45.0, 4.0, 1.0])\n",
    "\n",
    "# solve for 2 cases\n",
    "sol_case_5 = linprog(c, A_ub=A_ub_case_5, b_ub=b_ub_case_5)\n",
    "sol_case_6 = linprog(c, A_ub=A_ub_case_6, b_ub=b_ub_case_6)\n",
    "\n",
    "print(sol_case_5)\n",
    "print(\"---------------\")\n",
    "print(sol_case_6)"
   ]
  },
  {
   "cell_type": "code",
   "execution_count": 23,
   "metadata": {},
   "outputs": [],
   "source": [
    "# Case 5: (x1, x2) = (0, 5) gonna be solution since the obj value is greater than that of Case 1.\n",
    "# do not need to explore case 2 further"
   ]
  },
  {
   "cell_type": "markdown",
   "metadata": {},
   "source": [
    "### function from library"
   ]
  },
  {
   "cell_type": "code",
   "execution_count": 29,
   "metadata": {},
   "outputs": [
    {
     "ename": "TypeError",
     "evalue": "linprog() got an unexpected keyword argument 'integrality'",
     "output_type": "error",
     "traceback": [
      "\u001b[0;31m---------------------------------------------------------------------------\u001b[0m",
      "\u001b[0;31mTypeError\u001b[0m                                 Traceback (most recent call last)",
      "\u001b[0;32m<ipython-input-29-91ef33512169>\u001b[0m in \u001b[0;36m<module>\u001b[0;34m\u001b[0m\n\u001b[0;32m----> 1\u001b[0;31m \u001b[0msol_int\u001b[0m \u001b[0;34m=\u001b[0m \u001b[0mlinprog\u001b[0m\u001b[0;34m(\u001b[0m\u001b[0mc\u001b[0m\u001b[0;34m,\u001b[0m \u001b[0mA_ub\u001b[0m\u001b[0;34m=\u001b[0m\u001b[0mA_ub\u001b[0m\u001b[0;34m,\u001b[0m \u001b[0mb_ub\u001b[0m\u001b[0;34m=\u001b[0m\u001b[0mb_ub\u001b[0m\u001b[0;34m,\u001b[0m \u001b[0mintegrality\u001b[0m\u001b[0;34m=\u001b[0m\u001b[0mnp\u001b[0m\u001b[0;34m.\u001b[0m\u001b[0mones\u001b[0m\u001b[0;34m(\u001b[0m\u001b[0;36m2\u001b[0m\u001b[0;34m)\u001b[0m\u001b[0;34m)\u001b[0m\u001b[0;34m\u001b[0m\u001b[0;34m\u001b[0m\u001b[0m\n\u001b[0m",
      "\u001b[0;31mTypeError\u001b[0m: linprog() got an unexpected keyword argument 'integrality'"
     ]
    }
   ],
   "source": [
    "sol_int = linprog(c, A_ub=A_ub, b_ub=b_ub, integrality=np.ones(2))"
   ]
  },
  {
   "cell_type": "code",
   "execution_count": null,
   "metadata": {},
   "outputs": [],
   "source": []
  }
 ],
 "metadata": {
  "kernelspec": {
   "display_name": "Python 3",
   "language": "python",
   "name": "python3"
  },
  "language_info": {
   "codemirror_mode": {
    "name": "ipython",
    "version": 3
   },
   "file_extension": ".py",
   "mimetype": "text/x-python",
   "name": "python",
   "nbconvert_exporter": "python",
   "pygments_lexer": "ipython3",
   "version": "3.8.6"
  }
 },
 "nbformat": 4,
 "nbformat_minor": 4
}
