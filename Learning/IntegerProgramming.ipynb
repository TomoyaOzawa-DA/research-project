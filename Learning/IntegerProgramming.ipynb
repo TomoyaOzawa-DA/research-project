{
 "cells": [
  {
   "cell_type": "markdown",
   "metadata": {},
   "source": [
    "# Algorithms for Integer programming"
   ]
  },
  {
   "cell_type": "code",
   "execution_count": 1,
   "metadata": {},
   "outputs": [
    {
     "name": "stderr",
     "output_type": "stream",
     "text": [
      "<frozen importlib._bootstrap>:219: RuntimeWarning: scipy._lib.messagestream.MessageStream size changed, may indicate binary incompatibility. Expected 56 from C header, got 64 from PyObject\n"
     ]
    }
   ],
   "source": [
    "# library\n",
    "import numpy as np\n",
    "from scipy.optimize import linprog"
   ]
  },
  {
   "cell_type": "markdown",
   "metadata": {},
   "source": [
    "## Branch and Bound\n",
    "\n",
    "[Reference](https://towardsdatascience.com/a-gentle-introduction-to-branch-bound-d00a4ee1cad)\n",
    "\n",
    "Optimisation problem (from [AMP chapter 9](https://web.mit.edu/15.053/www/AMP-Chapter-09.pdf)):\n",
    "\n",
    "$$\n",
    "max\\quad5x_1 + 8x_2\n",
    "$$\n",
    "\n",
    "subject to:\n",
    "\n",
    "$$\n",
    "x_1+x_2\\leq6, \\quad\n",
    "5x_1 + 9x_2 \\leq 45, \\quad\n",
    "x_1, x_2 \\geq 0 \\ \\text{and integer}\n",
    "$$"
   ]
  },
  {
   "cell_type": "markdown",
   "metadata": {},
   "source": [
    "### from scratch"
   ]
  },
  {
   "cell_type": "code",
   "execution_count": 2,
   "metadata": {},
   "outputs": [],
   "source": [
    "# set up\n",
    "\n",
    "# coefficients for objective function\n",
    "c = np.array([-5.0, -8.0]) # mutiple by -1 due to regard maximisation problem as minimisation problem\n",
    "\n",
    "# coefficients for constraints\n",
    "A_ub = np.array(\n",
    "    [[1.0, 1.0],\n",
    "     [5.0, 9.0]]\n",
    ")\n",
    "\n",
    "# value of constrains\n",
    "b_ub = np.array([6.0, 45.0])"
   ]
  },
  {
   "cell_type": "code",
   "execution_count": 3,
   "metadata": {},
   "outputs": [
    {
     "data": {
      "text/plain": [
       "        message: Optimization terminated successfully. (HiGHS Status 7: Optimal)\n",
       "        success: True\n",
       "         status: 0\n",
       "            fun: -41.25\n",
       "              x: [ 2.250e+00  3.750e+00]\n",
       "            nit: 2\n",
       "          lower:  residual: [ 2.250e+00  3.750e+00]\n",
       "                 marginals: [ 0.000e+00  0.000e+00]\n",
       "          upper:  residual: [       inf        inf]\n",
       "                 marginals: [ 0.000e+00  0.000e+00]\n",
       "          eqlin:  residual: []\n",
       "                 marginals: []\n",
       "        ineqlin:  residual: [ 0.000e+00  0.000e+00]\n",
       "                 marginals: [-1.250e+00 -7.500e-01]\n",
       " mip_node_count: 0\n",
       " mip_dual_bound: 0.0\n",
       "        mip_gap: 0.0"
      ]
     },
     "execution_count": 3,
     "metadata": {},
     "output_type": "execute_result"
    }
   ],
   "source": [
    "# solve optimisation problem as linear programming, ignore integer constraints\n",
    "# solution implies that objective value for integral solution gonna be less than that for obtained solution\n",
    "# in this case less than or equal to 41.\n",
    "sol_relaxed = linprog(c, A_ub=A_ub, b_ub=b_ub)\n",
    "\n",
    "sol_relaxed"
   ]
  },
  {
   "cell_type": "code",
   "execution_count": 4,
   "metadata": {},
   "outputs": [
    {
     "name": "stdout",
     "output_type": "stream",
     "text": [
      "        message: Optimization terminated successfully. (HiGHS Status 7: Optimal)\n",
      "        success: True\n",
      "         status: 0\n",
      "            fun: -39.0\n",
      "              x: [ 3.000e+00  3.000e+00]\n",
      "            nit: 2\n",
      "          lower:  residual: [ 3.000e+00  3.000e+00]\n",
      "                 marginals: [ 0.000e+00  0.000e+00]\n",
      "          upper:  residual: [       inf        inf]\n",
      "                 marginals: [ 0.000e+00  0.000e+00]\n",
      "          eqlin:  residual: []\n",
      "                 marginals: []\n",
      "        ineqlin:  residual: [ 0.000e+00  3.000e+00  0.000e+00]\n",
      "                 marginals: [-5.000e+00 -0.000e+00 -3.000e+00]\n",
      " mip_node_count: 0\n",
      " mip_dual_bound: 0.0\n",
      "        mip_gap: 0.0\n",
      "---------------\n",
      "        message: Optimization terminated successfully. (HiGHS Status 7: Optimal)\n",
      "        success: True\n",
      "         status: 0\n",
      "            fun: -41.0\n",
      "              x: [ 1.800e+00  4.000e+00]\n",
      "            nit: 1\n",
      "          lower:  residual: [ 1.800e+00  4.000e+00]\n",
      "                 marginals: [ 0.000e+00  0.000e+00]\n",
      "          upper:  residual: [       inf        inf]\n",
      "                 marginals: [ 0.000e+00  0.000e+00]\n",
      "          eqlin:  residual: []\n",
      "                 marginals: []\n",
      "        ineqlin:  residual: [ 2.000e-01  0.000e+00  0.000e+00]\n",
      "                 marginals: [-0.000e+00 -1.000e+00 -1.000e+00]\n",
      " mip_node_count: 0\n",
      " mip_dual_bound: 0.0\n",
      "        mip_gap: 0.0\n"
     ]
    }
   ],
   "source": [
    "# First split \n",
    "\n",
    "# focus on x2. x2 will be x2 <=3 or x_2 >= 4\n",
    "\n",
    "# Case1: x2 <= 3\n",
    "# coefficients for constraints\n",
    "A_ub_case_1 = np.array(\n",
    "    [[1.0, 1.0],\n",
    "     [5.0, 9.0],\n",
    "     [0.0, 1.0]]\n",
    ")\n",
    "\n",
    "# value of constrains\n",
    "b_ub_case_1= np.array([6.0, 45.0, 3.0])\n",
    "\n",
    "# Case2: x2 >= 4\n",
    "# coefficients for constraints\n",
    "A_ub_case_2 = np.array(\n",
    "    [[1.0, 1.0],\n",
    "     [5.0, 9.0],\n",
    "     [0.0, -1.0]]\n",
    ")\n",
    "\n",
    "# value of constrains\n",
    "b_ub_case_2= np.array([6.0, 45.0, -4.0])\n",
    "\n",
    "# solve for 2 cases\n",
    "sol_case_1 = linprog(c, A_ub=A_ub_case_1, b_ub=b_ub_case_1)\n",
    "sol_case_2 = linprog(c, A_ub=A_ub_case_2, b_ub=b_ub_case_2)\n",
    "\n",
    "print(sol_case_1)\n",
    "print(\"---------------\")\n",
    "print(sol_case_2)"
   ]
  },
  {
   "cell_type": "code",
   "execution_count": 5,
   "metadata": {},
   "outputs": [
    {
     "name": "stdout",
     "output_type": "stream",
     "text": [
      "        message: Optimization terminated successfully. (HiGHS Status 7: Optimal)\n",
      "        success: True\n",
      "         status: 0\n",
      "            fun: -40.55555555555556\n",
      "              x: [ 1.000e+00  4.444e+00]\n",
      "            nit: 0\n",
      "          lower:  residual: [ 1.000e+00  4.444e+00]\n",
      "                 marginals: [ 0.000e+00  0.000e+00]\n",
      "          upper:  residual: [       inf        inf]\n",
      "                 marginals: [ 0.000e+00  0.000e+00]\n",
      "          eqlin:  residual: []\n",
      "                 marginals: []\n",
      "        ineqlin:  residual: [ 5.556e-01  0.000e+00  4.444e-01  0.000e+00]\n",
      "                 marginals: [-0.000e+00 -8.889e-01 -0.000e+00 -5.556e-01]\n",
      " mip_node_count: 0\n",
      " mip_dual_bound: 0.0\n",
      "        mip_gap: 0.0\n",
      "---------------\n",
      "       message: The problem is infeasible. (HiGHS Status 8: model_status is Infeasible; primal_status is At lower/fixed bound)\n",
      "       success: False\n",
      "        status: 2\n",
      "           fun: None\n",
      "             x: None\n",
      "           nit: 0\n",
      "         lower:  residual: None\n",
      "                marginals: None\n",
      "         upper:  residual: None\n",
      "                marginals: None\n",
      "         eqlin:  residual: None\n",
      "                marginals: None\n",
      "       ineqlin:  residual: None\n",
      "                marginals: None\n"
     ]
    }
   ],
   "source": [
    "# Second split \n",
    "\n",
    "# the objective value of case2 is better\n",
    "# since solution for x2 is integer, consider x1<=1 or x1>=2\n",
    "\n",
    "# Case 3: x2 >= 4, x1 <=1\n",
    "# coefficients for constraints\n",
    "A_ub_case_3 = np.array(\n",
    "    [[1.0, 1.0],\n",
    "     [5.0, 9.0],\n",
    "     [0.0, -1.0],\n",
    "     [1.0, 0.0]]\n",
    ")\n",
    "\n",
    "# value of constrains\n",
    "b_ub_case_3= np.array([6.0, 45.0, -4.0, 1.0])\n",
    "\n",
    "# Case 4: x2 >= 4, x1 >= 2\n",
    "# coefficients for constraints\n",
    "A_ub_case_4 = np.array(\n",
    "    [[1.0, 1.0],\n",
    "     [5.0, 9.0],\n",
    "     [0.0, -1.0],\n",
    "     [-1.0, 0.0]]\n",
    ")\n",
    "\n",
    "# value of constrains\n",
    "b_ub_case_4= np.array([6.0, 45.0, -4.0, -2.0])\n",
    "\n",
    "# solve for 2 cases\n",
    "sol_case_3 = linprog(c, A_ub=A_ub_case_3, b_ub=b_ub_case_3)\n",
    "sol_case_4 = linprog(c, A_ub=A_ub_case_4, b_ub=b_ub_case_4)\n",
    "\n",
    "print(sol_case_3)\n",
    "print(\"---------------\")\n",
    "print(sol_case_4)"
   ]
  },
  {
   "cell_type": "code",
   "execution_count": 6,
   "metadata": {},
   "outputs": [
    {
     "name": "stdout",
     "output_type": "stream",
     "text": [
      "        message: Optimization terminated successfully. (HiGHS Status 7: Optimal)\n",
      "        success: True\n",
      "         status: 0\n",
      "            fun: -40.0\n",
      "              x: [-0.000e+00  5.000e+00]\n",
      "            nit: 0\n",
      "          lower:  residual: [-0.000e+00  5.000e+00]\n",
      "                 marginals: [ 0.000e+00  0.000e+00]\n",
      "          upper:  residual: [       inf        inf]\n",
      "                 marginals: [ 0.000e+00  0.000e+00]\n",
      "          eqlin:  residual: []\n",
      "                 marginals: []\n",
      "        ineqlin:  residual: [ 1.000e+00  0.000e+00  0.000e+00  1.000e+00]\n",
      "                 marginals: [-0.000e+00 -1.000e+00 -1.000e+00 -0.000e+00]\n",
      " mip_node_count: 0\n",
      " mip_dual_bound: 0.0\n",
      "        mip_gap: 0.0\n",
      "---------------\n",
      "        message: Optimization terminated successfully. (HiGHS Status 7: Optimal)\n",
      "        success: True\n",
      "         status: 0\n",
      "            fun: -37.0\n",
      "              x: [ 1.000e+00  4.000e+00]\n",
      "            nit: 0\n",
      "          lower:  residual: [ 1.000e+00  4.000e+00]\n",
      "                 marginals: [ 0.000e+00  0.000e+00]\n",
      "          upper:  residual: [       inf        inf]\n",
      "                 marginals: [ 0.000e+00  0.000e+00]\n",
      "          eqlin:  residual: []\n",
      "                 marginals: []\n",
      "        ineqlin:  residual: [ 1.000e+00  4.000e+00  0.000e+00  0.000e+00]\n",
      "                 marginals: [-0.000e+00 -0.000e+00 -8.000e+00 -5.000e+00]\n",
      " mip_node_count: 0\n",
      " mip_dual_bound: 0.0\n",
      "        mip_gap: 0.0\n"
     ]
    }
   ],
   "source": [
    "# 3rd split\n",
    "\n",
    "# we found that case 3 is okay but case 4 is infeasible\n",
    "# focus on case 3, x1 <= 1 obj value is 40.5\n",
    "\n",
    "# Case 5: x2 >= 5, x1 <=1\n",
    "# coefficients for constraints\n",
    "A_ub_case_5 = np.array(\n",
    "    [[1.0, 1.0],\n",
    "     [5.0, 9.0],\n",
    "     [0.0, -1.0],\n",
    "     [1.0, 0.0]]\n",
    ")\n",
    "\n",
    "# value of constrains\n",
    "b_ub_case_5= np.array([6.0, 45.0, -5.0, 1.0])\n",
    "\n",
    "# Case 6: x2 <= 4, x1 <=1\n",
    "# coefficients for constraints\n",
    "A_ub_case_6 = np.array(\n",
    "    [[1.0, 1.0],\n",
    "     [5.0, 9.0],\n",
    "     [0.0, 1.0],\n",
    "     [1.0, 0.0]]\n",
    ")\n",
    "\n",
    "# value of constrains\n",
    "b_ub_case_6= np.array([6.0, 45.0, 4.0, 1.0])\n",
    "\n",
    "# solve for 2 cases\n",
    "sol_case_5 = linprog(c, A_ub=A_ub_case_5, b_ub=b_ub_case_5)\n",
    "sol_case_6 = linprog(c, A_ub=A_ub_case_6, b_ub=b_ub_case_6)\n",
    "\n",
    "print(sol_case_5)\n",
    "print(\"---------------\")\n",
    "print(sol_case_6)"
   ]
  },
  {
   "cell_type": "code",
   "execution_count": 7,
   "metadata": {},
   "outputs": [],
   "source": [
    "# Case 5: (x1, x2) = (0, 5) gonna be solution since the obj value is greater than that of Case 1.\n",
    "# do not need to explore case 2 further"
   ]
  },
  {
   "cell_type": "markdown",
   "metadata": {},
   "source": [
    "### function from library"
   ]
  },
  {
   "cell_type": "code",
   "execution_count": 9,
   "metadata": {},
   "outputs": [
    {
     "data": {
      "text/plain": [
       "        message: Optimization terminated successfully. (HiGHS Status 7: Optimal)\n",
       "        success: True\n",
       "         status: 0\n",
       "            fun: -40.0\n",
       "              x: [ 0.000e+00  5.000e+00]\n",
       "            nit: -1\n",
       "          lower:  residual: [ 0.000e+00  5.000e+00]\n",
       "                 marginals: [ 0.000e+00  0.000e+00]\n",
       "          upper:  residual: [       inf        inf]\n",
       "                 marginals: [ 0.000e+00  0.000e+00]\n",
       "          eqlin:  residual: []\n",
       "                 marginals: []\n",
       "        ineqlin:  residual: [ 1.000e+00  0.000e+00]\n",
       "                 marginals: [ 0.000e+00  0.000e+00]\n",
       " mip_node_count: 1\n",
       " mip_dual_bound: -40.0\n",
       "        mip_gap: 0.0"
      ]
     },
     "execution_count": 9,
     "metadata": {},
     "output_type": "execute_result"
    }
   ],
   "source": [
    "sol_int = linprog(c, A_ub=A_ub, b_ub=b_ub, integrality=np.ones(2))\n",
    "sol_int"
   ]
  },
  {
   "cell_type": "code",
   "execution_count": 10,
   "metadata": {},
   "outputs": [],
   "source": [
    "# function tell us that integer solution is (x1, x2) = (0, 5)"
   ]
  },
  {
   "cell_type": "code",
   "execution_count": null,
   "metadata": {},
   "outputs": [],
   "source": []
  }
 ],
 "metadata": {
  "kernelspec": {
   "display_name": "Python 3",
   "language": "python",
   "name": "python3"
  },
  "language_info": {
   "codemirror_mode": {
    "name": "ipython",
    "version": 3
   },
   "file_extension": ".py",
   "mimetype": "text/x-python",
   "name": "python",
   "nbconvert_exporter": "python",
   "pygments_lexer": "ipython3",
   "version": "3.8.6"
  }
 },
 "nbformat": 4,
 "nbformat_minor": 4
}
