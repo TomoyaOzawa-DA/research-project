{
 "cells": [
  {
   "cell_type": "markdown",
   "id": "5d4ec879",
   "metadata": {},
   "source": [
    "## Introduction to Gurobi - Diet Problem"
   ]
  },
  {
   "cell_type": "code",
   "execution_count": 4,
   "id": "aa358d32",
   "metadata": {},
   "outputs": [],
   "source": [
    "import gurobipy as grb\n",
    "import numpy as np"
   ]
  },
  {
   "cell_type": "markdown",
   "id": "71df699a",
   "metadata": {},
   "source": [
    "\n",
    "$$\n",
    "\\text{minimize }2x_1 + 3.5x_2 + 8 x_3 + 1.5 x_4 + 11 x_5 + x_6\n",
    "$$\n",
    "\n",
    "\n",
    "$$\n",
    "\\text{subject to }\n",
    "\\begin{align}\n",
    "90x_1 + 120x_2 + 106x_3 + 97x_4 + 130x_5 + 180x_6 \\geq 300\\\\\n",
    "4x_1 + 8x_2 + 7x_3 + 1.3x_4 + 8x_5 + 9.2x_6 \\leq10\\\\\n",
    "15x_1 + 11.7x_2 + 0.4x_3 + 22.6x_4 + 17x_6\\geq 10\\\\\n",
    "x_1 + 5x_2 + 9x_3 + 0.1x_4 + 7x_5 + x_6\\geq 8\\\\\n",
    "x_5 \\geq0.5\\\\\n",
    "x_2 \\leq1\\\\\n",
    "x_j \\geq 0, \\quad j = 1, \\cdots, 6\n",
    "\\end{align}\n",
    "$$\n",
    "\n",
    "In matrix notation:\n",
    "\n",
    "$$\n",
    "\\text{minimize } c^{T}x\n",
    "$$\n",
    "\n",
    "$$\n",
    "\\text{where } \n",
    "c^T = \n",
    "\\begin{bmatrix}\n",
    "2& 3.5& 8& 1.5& 11& 1\n",
    "\\end{bmatrix}\n",
    "\\quad \n",
    "x = \\begin{bmatrix}\n",
    "x_1&x_2&x_3&x_4&x_5&x_6\n",
    "\\end{bmatrix}\n",
    "$$\n",
    "\n",
    "$$\n",
    "\\text{subject to }\n",
    "Ax \\geq b\n",
    "$$\n",
    "\n",
    "$$\n",
    "\\text{where }\n",
    "A = \\begin{bmatrix}\n",
    "90 & 120 & 106 & 97 & 130 & 180 \\\\\n",
    "-4 & -8 & -7 & -1.3 & -8 & -9.2\\\\\n",
    "15 & 11.7 & 0.4 & 22.6 & 0 & 17\\\\\n",
    "1 & 5 & 9 & 0.1 & 7 & 1\\\\\n",
    "0 & 0 & 0 & 0 & 1& 0 \\\\\n",
    "0 & -1 & 0 & 0 & 0 & 0\n",
    "\\end{bmatrix}\n",
    "\\quad \n",
    "b = \\begin{bmatrix}\n",
    "300 \\\\\n",
    "-10 \\\\\n",
    "10\\\\\n",
    "8\\\\\n",
    "0.5\\\\\n",
    "-1\n",
    "\\end{bmatrix}\n",
    "$$"
   ]
  },
  {
   "cell_type": "code",
   "execution_count": 15,
   "id": "99cb061c",
   "metadata": {},
   "outputs": [
    {
     "name": "stdout",
     "output_type": "stream",
     "text": [
      "Gurobi Optimizer version 10.0.1 build v10.0.1rc0 (mac64[x86])\n",
      "\n",
      "CPU model: Intel(R) Core(TM) i5-8257U CPU @ 1.40GHz\n",
      "Thread count: 4 physical cores, 8 logical processors, using up to 8 threads\n",
      "\n",
      "Optimize a model with 6 rows, 6 columns and 25 nonzeros\n",
      "Model fingerprint: 0xe32a955b\n",
      "Coefficient statistics:\n",
      "  Matrix range     [1e-01, 2e+02]\n",
      "  Objective range  [1e+00, 1e+01]\n",
      "  Bounds range     [0e+00, 0e+00]\n",
      "  RHS range        [5e-01, 3e+02]\n",
      "Presolve removed 2 rows and 0 columns\n",
      "Presolve time: 0.01s\n",
      "Presolved: 4 rows, 6 columns, 23 nonzeros\n",
      "\n",
      "Iteration    Objective       Primal Inf.    Dual Inf.      Time\n",
      "       0    8.6500000e+00   1.032350e+01   0.000000e+00      0s\n",
      "       2    1.2081338e+01   0.000000e+00   0.000000e+00      0s\n",
      "\n",
      "Solved in 2 iterations and 0.02 seconds (0.00 work units)\n",
      "Optimal objective  1.208133788e+01\n",
      "------------------------------------\n",
      "Cost is minimised at: 12.08\n",
      "0.00 units of bread is included in the diet.\n",
      "0.05 units of milk is included in the diet.\n",
      "0.45 units of cheese is included in the diet.\n",
      "1.87 units of potato is included in the diet.\n",
      "0.50 units of fish is included in the diet.\n",
      "0.00 units of yogurt is included in the diet.\n"
     ]
    }
   ],
   "source": [
    "# create a model instance called Diet\n",
    "M = grb.Model('Diet')\n",
    "\n",
    "# set decision variables\n",
    "x = M.addMVar(6)\n",
    "\n",
    "# c^T\n",
    "c = np.array([2,3.5,8,1.5,11,1])\n",
    "\n",
    "# A\n",
    "A = np.array([\n",
    "    [-4,-8,-7,-1.3,-8,-9.2],\n",
    "    [1,5,9,0.1,7,1],\n",
    "    [15,11.7,0.4,22.6,0,17],\n",
    "    [90,120,106,97,130,180],\n",
    "    [0,0,0,0,1,0],\n",
    "    [0,-1,0,0,0,0]\n",
    "])\n",
    "\n",
    "# b\n",
    "b = np.array([-10,8,10,300,0.5,-1])\n",
    "\n",
    "# inner products of C^T and x\n",
    "M.setObjective(c@x)\n",
    "\n",
    "# Ax >= b\n",
    "M.addConstr(A@x >= b)\n",
    "\n",
    "M.optimize()\n",
    "print('------------------------------------')\n",
    "# value of objective function\n",
    "print('Cost is minimised at: {:.2f}'.format(M.objVal))\n",
    "\n",
    "food = ['bread', 'milk', 'cheese','potato','fish','yogurt'] \n",
    "\n",
    "# where item comes from? It\n",
    "for item in range(len(food)):\n",
    "    print('{:.2f} units of {} is included in the diet.'.format(x.x[item],food[item]))"
   ]
  },
  {
   "cell_type": "code",
   "execution_count": 18,
   "id": "68a59305",
   "metadata": {},
   "outputs": [
    {
     "data": {
      "text/plain": [
       "0.05359877488514546"
      ]
     },
     "execution_count": 18,
     "metadata": {},
     "output_type": "execute_result"
    }
   ],
   "source": [
    "x.x[1]"
   ]
  },
  {
   "cell_type": "code",
   "execution_count": 20,
   "id": "bc884192",
   "metadata": {},
   "outputs": [
    {
     "data": {
      "text/plain": [
       "array([0.        , 0.05359877, 0.44949882, 1.86516776, 0.5       ,\n",
       "       0.        ])"
      ]
     },
     "execution_count": 20,
     "metadata": {},
     "output_type": "execute_result"
    }
   ],
   "source": [
    "# we can get optimized value as matrix.\n",
    "x.X"
   ]
  },
  {
   "cell_type": "code",
   "execution_count": null,
   "id": "741c7d09",
   "metadata": {},
   "outputs": [],
   "source": []
  },
  {
   "cell_type": "code",
   "execution_count": null,
   "id": "8140bffb",
   "metadata": {},
   "outputs": [],
   "source": []
  },
  {
   "cell_type": "code",
   "execution_count": null,
   "id": "e9b3b993",
   "metadata": {},
   "outputs": [],
   "source": []
  },
  {
   "cell_type": "code",
   "execution_count": 9,
   "id": "060da621",
   "metadata": {},
   "outputs": [
    {
     "name": "stdout",
     "output_type": "stream",
     "text": [
      "Gurobi Optimizer version 10.0.1 build v10.0.1rc0 (mac64[x86])\n",
      "\n",
      "CPU model: Intel(R) Core(TM) i5-8257U CPU @ 1.40GHz\n",
      "Thread count: 4 physical cores, 8 logical processors, using up to 8 threads\n",
      "\n",
      "Optimize a model with 12 rows, 6 columns and 31 nonzeros\n",
      "Model fingerprint: 0x528d131c\n",
      "Coefficient statistics:\n",
      "  Matrix range     [1e-01, 2e+02]\n",
      "  Objective range  [1e+00, 1e+01]\n",
      "  Bounds range     [0e+00, 0e+00]\n",
      "  RHS range        [5e-01, 3e+02]\n",
      "Presolve removed 8 rows and 0 columns\n",
      "Presolve time: 0.01s\n",
      "Presolved: 4 rows, 6 columns, 23 nonzeros\n",
      "\n",
      "Iteration    Objective       Primal Inf.    Dual Inf.      Time\n",
      "       0    8.6500000e+00   1.032350e+01   0.000000e+00      0s\n",
      "       2    1.2081338e+01   0.000000e+00   0.000000e+00      0s\n",
      "\n",
      "Solved in 2 iterations and 0.01 seconds (0.00 work units)\n",
      "Optimal objective  1.208133788e+01\n",
      "------------------------------------\n",
      "Cost is minimised at: 12.08\n",
      "0.00 units of bread is included in the diet.\n",
      "0.05 units of milk is included in the diet.\n",
      "0.45 units of cheese is included in the diet.\n",
      "1.87 units of potato is included in the diet.\n",
      "0.50 units of fish is included in the diet.\n",
      "0.00 units of yogurt is included in the diet.\n"
     ]
    }
   ],
   "source": [
    "# Should we need additional constraits for x_j >= 0 j = 1, 2, ..., 6\n",
    "# If I include this condition, same result is produced. \n",
    "\n",
    "\n",
    "# create a model instance called Diet\n",
    "M = grb.Model('Diet')\n",
    "\n",
    "# set decision variables\n",
    "x = M.addMVar(6)\n",
    "\n",
    "# c^T\n",
    "c = np.array([2,3.5,8,1.5,11,1])\n",
    "\n",
    "# A\n",
    "A = np.array([\n",
    "    [-4,-8,-7,-1.3,-8,-9.2],\n",
    "    [1,5,9,0.1,7,1],\n",
    "    [15,11.7,0.4,22.6,0,17],\n",
    "    [90,120,106,97,130,180],\n",
    "    [0,0,0,0,1,0],\n",
    "    [0,-1,0,0,0,0],\n",
    "    [1,0, 0, 0, 0, 0],\n",
    "    [0,1, 0, 0, 0, 0],\n",
    "    [0,0, 1, 0, 0, 0],\n",
    "    [0,0, 0, 1, 0, 0],\n",
    "    [0,0, 0, 0, 1, 0],\n",
    "    [0,0, 0, 0, 0, 1]\n",
    "])\n",
    "\n",
    "# b\n",
    "b = np.array([-10,8,10,300,0.5,-1, 0, 0, 0, 0, 0, 0])\n",
    "\n",
    "# inner products of C^T and x\n",
    "M.setObjective(c@x)\n",
    "\n",
    "# Ax >= b\n",
    "M.addConstr(A@x >= b)\n",
    "\n",
    "M.optimize()\n",
    "print('------------------------------------')\n",
    "print('Cost is minimised at: {:.2f}'.format(M.objVal))\n",
    "food = ['bread', 'milk', 'cheese','potato','fish','yogurt'] \n",
    "for item in range(len(food)):\n",
    "    print('{:.2f} units of {} is included in the diet.'.format(x.x[ item],food[item]))"
   ]
  },
  {
   "cell_type": "code",
   "execution_count": null,
   "id": "ac0a1d6a",
   "metadata": {},
   "outputs": [],
   "source": []
  }
 ],
 "metadata": {
  "kernelspec": {
   "display_name": "Python 3 (ipykernel)",
   "language": "python",
   "name": "python3"
  },
  "language_info": {
   "codemirror_mode": {
    "name": "ipython",
    "version": 3
   },
   "file_extension": ".py",
   "mimetype": "text/x-python",
   "name": "python",
   "nbconvert_exporter": "python",
   "pygments_lexer": "ipython3",
   "version": "3.9.13"
  },
  "toc": {
   "base_numbering": 1,
   "nav_menu": {},
   "number_sections": false,
   "sideBar": true,
   "skip_h1_title": false,
   "title_cell": "Table of Contents",
   "title_sidebar": "Contents",
   "toc_cell": false,
   "toc_position": {},
   "toc_section_display": true,
   "toc_window_display": false
  }
 },
 "nbformat": 4,
 "nbformat_minor": 5
}
