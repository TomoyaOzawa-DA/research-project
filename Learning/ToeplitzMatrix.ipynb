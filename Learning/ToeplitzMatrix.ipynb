{
 "cells": [
  {
   "cell_type": "markdown",
   "metadata": {},
   "source": [
    "# Toeplitz matrix\n",
    "\n",
    "Reference:\n",
    "\n",
    "- AMP Chapter 7\n",
    "- [Python companion](https://ses.library.usyd.edu.au/handle/2123/21370)"
   ]
  },
  {
   "cell_type": "code",
   "execution_count": 1,
   "metadata": {},
   "outputs": [],
   "source": [
    "import numpy as np"
   ]
  },
  {
   "cell_type": "markdown",
   "metadata": {},
   "source": [
    "## Convolution\n",
    "\n",
    "The convolution of $n$-vector $a$ and $m$-vector $b$ is $(n + m -1)$-vector can be written as $c = a * b$\n",
    "\n",
    "Each element of $c$ can be written as follows:\n",
    "\n",
    "$$\n",
    "c_k = \\sum_{i + j = k + 1}a_i b_j, \\quad k = 1, \\cdots, n+m-1\n",
    "$$\n",
    "\n",
    "$$\n",
    "c_1 = a_1b_1 , \\quad\n",
    "c_2 = a_1b_2 + a_2b_1 , \\cdots\n",
    "$$\n",
    "\n",
    "For example, the convolution of $a$ and $b$ are:\n",
    "\n",
    "$$\n",
    "a = \n",
    "\\begin{bmatrix}\n",
    "1 \\\\ 0 \\\\ -1\n",
    "\\end{bmatrix}\n",
    "\\quad\n",
    "b = \n",
    "\\begin{bmatrix}\n",
    "2 \\\\ 1 \\\\ -1\n",
    "\\end{bmatrix}\n",
    "\\quad\n",
    "a * b = \n",
    "\\begin{bmatrix}\n",
    "2 \\\\ 1 \\\\ -3\\\\-1 \\\\1\n",
    "\\end{bmatrix}\n",
    "$$"
   ]
  },
  {
   "cell_type": "code",
   "execution_count": 11,
   "metadata": {},
   "outputs": [
    {
     "name": "stdout",
     "output_type": "stream",
     "text": [
      "vector a:\n"
     ]
    },
    {
     "data": {
      "text/plain": [
       "array([ 1,  0, -1])"
      ]
     },
     "execution_count": 11,
     "metadata": {},
     "output_type": "execute_result"
    }
   ],
   "source": [
    "a = np.array([1, 0, -1])\n",
    "print(\"vector a:\")\n",
    "a"
   ]
  },
  {
   "cell_type": "code",
   "execution_count": 12,
   "metadata": {},
   "outputs": [
    {
     "name": "stdout",
     "output_type": "stream",
     "text": [
      "vector b:\n"
     ]
    },
    {
     "data": {
      "text/plain": [
       "array([ 2,  1, -1])"
      ]
     },
     "execution_count": 12,
     "metadata": {},
     "output_type": "execute_result"
    }
   ],
   "source": [
    "b = np.array([2, 1, -1])\n",
    "print(\"vector b:\")\n",
    "b"
   ]
  },
  {
   "cell_type": "code",
   "execution_count": 13,
   "metadata": {},
   "outputs": [
    {
     "name": "stdout",
     "output_type": "stream",
     "text": [
      "the convolution of a and b\n"
     ]
    },
    {
     "data": {
      "text/plain": [
       "array([ 2,  1, -3, -1,  1])"
      ]
     },
     "execution_count": 13,
     "metadata": {},
     "output_type": "execute_result"
    }
   ],
   "source": [
    "conv = np.convolve(a, b)\n",
    "print(\"the convolution of a and b\")\n",
    "conv"
   ]
  },
  {
   "cell_type": "markdown",
   "metadata": {},
   "source": [
    "## Toeplitz matrix\n",
    "\n",
    "The convolution can be expressed as inner products using Toeplitz matrix:\n",
    "\n",
    "$$\n",
    "a * b = T(a)b = T(b)a, \\quad\n",
    "\\text{where }\n",
    "T(b) \\text{ is the } (n + m - 1)\\times n \\ \\text{matrix} \n",
    "$$\n",
    "\n",
    "$$\n",
    "T(b)_{ij} = \\left\\{\n",
    "\\begin{array}\\\\\n",
    "b_{i-j+1} &1\\leq i - j + 1 \\leq m \\\\\n",
    "0 & \\text{otherwise}\n",
    "\\end{array}\n",
    "\\right.\n",
    "$$\n",
    "\n",
    "\n",
    "When $n = 3$ and $m = 3$, $T(b)$ is:\n",
    "\n",
    "$$\n",
    "T(b) = \\begin{bmatrix}\n",
    "b_1 & 0 & 0  \\\\\n",
    "b_2 & b_1 & 0 \\\\\n",
    "b_3 & b_2 & b_1 \\\\\n",
    "0 & b_3 & b_2 \\\\\n",
    " 0 & 0 & b_3 \n",
    "\\end{bmatrix} \n",
    "= \n",
    "\\begin{bmatrix}\n",
    "2 & 0 & 0  \\\\\n",
    "1 & 2 & 0 \\\\\n",
    "-1 & 1 & 2 \\\\\n",
    "0 & -1 & 1 \\\\\n",
    " 0 & 0 & -1 \n",
    "\\end{bmatrix} \n",
    "$$"
   ]
  },
  {
   "cell_type": "code",
   "execution_count": 16,
   "metadata": {},
   "outputs": [],
   "source": [
    "# define function computing Toeplitz matrix\n",
    "def toeplitz(b, n):\n",
    "    # compute Toeplitz matrix T(b) for the convolution a * b\n",
    "    \n",
    "    # arguments:\n",
    "    # b: original matrix. If T(b), b is original matrix\n",
    "    # n: dimension of vector a\n",
    "\n",
    "    m = len(b)\n",
    "    T = np.zeros((n+m-1, n))\n",
    "    for j in range(n):\n",
    "        T[j:j+m, j] = bb\n",
    "        \n",
    "    return T"
   ]
  },
  {
   "cell_type": "code",
   "execution_count": 26,
   "metadata": {},
   "outputs": [
    {
     "name": "stdout",
     "output_type": "stream",
     "text": [
      "Toeplitz matrix for b:\n"
     ]
    },
    {
     "data": {
      "text/plain": [
       "array([[ 2.,  0.,  0.],\n",
       "       [ 1.,  2.,  0.],\n",
       "       [-1.,  1.,  2.],\n",
       "       [ 0., -1.,  1.],\n",
       "       [ 0.,  0., -1.]])"
      ]
     },
     "execution_count": 26,
     "metadata": {},
     "output_type": "execute_result"
    }
   ],
   "source": [
    "print(\"Toeplitz matrix for b:\")\n",
    "toeplitz(b, len(a))"
   ]
  },
  {
   "cell_type": "code",
   "execution_count": 27,
   "metadata": {},
   "outputs": [
    {
     "name": "stdout",
     "output_type": "stream",
     "text": [
      "the convolution of a and b computed by using Toeplitz matrix\n",
      "[ 2.  1. -3. -1.  1.]\n",
      "\n",
      "\n",
      "the convolution of a and b\n"
     ]
    },
    {
     "data": {
      "text/plain": [
       "array([ 2,  1, -3, -1,  1])"
      ]
     },
     "execution_count": 27,
     "metadata": {},
     "output_type": "execute_result"
    }
   ],
   "source": [
    "# check whether we can obtain the same answer\n",
    "\n",
    "print(\"the convolution of a and b computed by using Toeplitz matrix\")\n",
    "# @ means taking inner product \n",
    "conv_toeplitz = toeplitz(b, len(a)) @ a\n",
    "print(conv_toeplitz)\n",
    "\n",
    "print(\"\\n\")\n",
    "print(\"the convolution of a and b\")\n",
    "conv"
   ]
  },
  {
   "cell_type": "code",
   "execution_count": null,
   "metadata": {},
   "outputs": [],
   "source": []
  },
  {
   "cell_type": "code",
   "execution_count": null,
   "metadata": {},
   "outputs": [],
   "source": []
  },
  {
   "cell_type": "code",
   "execution_count": null,
   "metadata": {},
   "outputs": [],
   "source": []
  }
 ],
 "metadata": {
  "kernelspec": {
   "display_name": "Python 3",
   "language": "python",
   "name": "python3"
  },
  "language_info": {
   "codemirror_mode": {
    "name": "ipython",
    "version": 3
   },
   "file_extension": ".py",
   "mimetype": "text/x-python",
   "name": "python",
   "nbconvert_exporter": "python",
   "pygments_lexer": "ipython3",
   "version": "3.8.6"
  }
 },
 "nbformat": 4,
 "nbformat_minor": 4
}
